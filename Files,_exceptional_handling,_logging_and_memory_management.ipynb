{
  "nbformat": 4,
  "nbformat_minor": 0,
  "metadata": {
    "colab": {
      "provenance": []
    },
    "kernelspec": {
      "name": "python3",
      "display_name": "Python 3"
    },
    "language_info": {
      "name": "python"
    }
  },
  "cells": [
    {
      "cell_type": "markdown",
      "source": [
        "# Files, exceptional handling, logging and memory management"
      ],
      "metadata": {
        "id": "IiJYPR-qeBHB"
      }
    },
    {
      "cell_type": "markdown",
      "source": [
        "1. What is the difference between interpreted and compiled languages?\n",
        "\n",
        "-  Interpreted and compiled languages differ in how they execute code:\n",
        " - Interpreted Languages: These languages execute code line by line using an interpreter. This allows for easier debugging and platform independence but tends to be slower since each line is processed at runtime. Examples include Python, JavaScript, and Ruby.\n",
        " - Compiled Languages: These require a compiler to translate the entire code into machine language before execution. This results in faster performance but means that debugging might be more complex. Examples include C, C++, and Rust.\n",
        "\n",
        " Compiled languages translate the entire program into machine code before execution, while interpreted languages translate the code line by line during execution"
      ],
      "metadata": {
        "id": "ruSexBRGeHVe"
      }
    },
    {
      "cell_type": "markdown",
      "source": [
        "2. What is exception handling in Python?\n",
        "- Exception handling in Python is a mechanism to manage errors that occur during the execution of a program. It allows the program to continue running even when an error, or exception, occurs, preventing it from crashing. This is achieved through the use of try, except, else, and finally blocks.\n",
        " - The try block encloses the code that might raise an exception.\n",
        " - The except block specifies how to handle specific types of exceptions.\n",
        " - The optional else block contains code that executes if no exceptions were raised in the try block.\n",
        " - The optional finally block contains code that executes regardless of whether an exception was raised or not, often used for cleanup actions.\n",
        "\n",
        " Python has various built-in exceptions, such as TypeError, ValueError, IndexError, etc. You can also define custom exceptions for specific cases.\n",
        "Want to see an example with multiple exception types?\n"
      ],
      "metadata": {
        "id": "EpV_YIF1e2pW"
      }
    },
    {
      "cell_type": "markdown",
      "source": [
        "3. What is the purpose of the finally block in exception handling?\n",
        "- The purpose of the finally block in exception handling is to ensure that certain code, such as cleanup operations or resource releases, executes regardless of whether an exception is thrown or caught in the try block. It guarantees that critical tasks, like closing files or releasing connections, will be performed, even if an exception occurs and the program flow is interrupted.  \n",
        " - Guaranteed Execution:\n",
        "The finally block is always executed when the try block exits, no matter what. This means it runs whether an exception is thrown, caught, or not thrown at all.\n",
        " - Cleanup Tasks:\n",
        "The finally block is used for tasks like releasing resources (e.g., closing files, releasing database connections), ensuring that resources are not left open or unreleased.\n",
        " - Robustness:\n",
        "By guaranteeing the execution of cleanup code, the finally block enhances the robustness of the program, preventing resource leaks or unexpected behavior due to unreleased resources.\n",
        " - Control Flow:\n",
        "The finally block is executed after all catch blocks have finished processing, if any, and before the program continues execution after the try...catch...finally block.\n",
        " - Return Statements:\n",
        "If a return statement exists within the try block, the finally block will still be executed before the value is returned to the caller."
      ],
      "metadata": {
        "id": "6mhbV0Hhfifc"
      }
    },
    {
      "cell_type": "markdown",
      "source": [
        "4. What is logging in Python?\n",
        "- Logging in Python is a way to record events, errors, and other messages during the execution of a program. It helps developers diagnose issues, monitor performance, and keep track of important information.\n",
        "Key Features of Logging:\n",
        " - Error Tracking: Helps in debugging by capturing warnings, errors, and critical issues.\n",
        " - Customizable Levels: Allows filtering logs based on importance (e.g., DEBUG, INFO, WARNING, ERROR, CRITICAL).\n",
        " - File Logging: Stores logs in a file for later analysis.\n",
        " - Timestamped Messages: Includes timestamps to track when events occur.\n"
      ],
      "metadata": {
        "id": "d90p1MP3gKfU"
      }
    },
    {
      "cell_type": "markdown",
      "source": [
        "5. What is the significance of the __del__ method in Python?\n",
        "- The __del__ method in Python is a special method known as a destructor. It is called when an object is about to be destroyed, typically when it goes out of scope or is explicitly deleted using del. Its primary purpose is to clean up resources before an object is removed from memory.\n",
        "Key Uses of __del__:\n",
        " - Resource Cleanup: Helps release resources like file handles or network connections before an object is deleted.\n",
        " - Memory Management: Ensures objects are properly removed when no longer needed.\n",
        " - Logging Object Deletion: Can be used to track when objects are destroyed.\n",
        " - The __del__ method is not always guaranteed to be called immediately, as Python relies on garbage collection.\n",
        " - Using it excessively may lead to issues if objects are referenced elsewhere, preventing them from being deleted.\n",
        " - Context managers (with statement) are often preferred for handling resource cleanup explicitly.\n"
      ],
      "metadata": {
        "id": "VOinuKVhgh7g"
      }
    },
    {
      "cell_type": "markdown",
      "source": [
        "6. What is the difference between import and from ... import in Python?\n",
        "In Python, both import and from ... import are used to bring modules or specific components into your script, but they differ in how they work.\n",
        "\n",
        "- 1. import Statement\n",
        "   - Imports an entire module.\n",
        "   - Requires you to use the module name to access its attributes.\n",
        "- 2. from ... import Statement\n",
        "   - Imports specific attributes, functions, or classes from a module.\n",
        "   - Allows direct usage without the module prefix.\n",
        "- Best Practices\n",
        " - Use import module when you need multiple functions from a module, keeping namespace organized.\n",
        " - Use from ... import when you need a specific function or class frequently, avoiding unnecessary module prefixes.\n",
        "\n"
      ],
      "metadata": {
        "id": "kHSLAsz_heM3"
      }
    },
    {
      "cell_type": "markdown",
      "source": [
        "7. How can you handle multiple exceptions in Python?\n",
        "-  In Python, you can handle multiple exceptions using multiple except blocks or a single except block that catches multiple exceptions.\n",
        "1. Handling Multiple Exceptions with Separate except Blocks\n",
        "Each except block catches a specific exception type.\n",
        "\n",
        "2. Handling Multiple Exceptions in One except Block\n",
        "Use a tuple to catch multiple exceptions in a single block.\n",
        "\n",
        "3. Catching All Exceptions (Exception)\n",
        "Using Exception catches all types of exceptions, but it's best used carefully.\n"
      ],
      "metadata": {
        "id": "ps7hbhlCim79"
      }
    },
    {
      "cell_type": "markdown",
      "source": [
        "8. What is the purpose of the with statement when handling files in Python?\n",
        "-  The with statement in Python provides a clean and efficient way to manage resources, particularly files. It ensures that files are properly closed after their operations are completed, even if exceptions occur. This automatic resource management prevents issues like data corruption or resource leaks. The with statement simplifies code by eliminating the need for explicit try...finally blocks for file handling. Once the with block is exited, the file is automatically closed—even if an exception occurs inside the block.\n",
        "\n",
        "\n"
      ],
      "metadata": {
        "id": "SCGNf4DtjOAz"
      }
    },
    {
      "cell_type": "markdown",
      "source": [
        "9. What is the difference between multithreading and multiprocessing?\n",
        "-  Multithreading and multiprocessing both help in executing multiple tasks simultaneously, but they differ in how they utilize system resources.\n",
        "1. Multithreading\n",
        "- Uses multiple threads within the same process.\n",
        "- Threads share memory, making communication between them faster.\n",
        "- Best for I/O-bound tasks like file operations, networking, and GUI applications.\n",
        "\n",
        "2. Multiprocessing\n",
        "- Uses multiple processes, each with its own memory space.\n",
        "- Better for CPU-bound tasks like data processing or computation-heavy operations.\n",
        "- Avoids the Global Interpreter Lock (GIL), enabling true parallelism.\n"
      ],
      "metadata": {
        "id": "o8_zi5TGjvlz"
      }
    },
    {
      "cell_type": "markdown",
      "source": [
        "10. What are the advantages of using logging in a program?\n",
        "-  Logging is an essential tool in programming that helps developers monitor, debug, and track the behavior of an application. Here are the key advantages of using logging:\n",
        " 1. Debugging & Troubleshooting\n",
        " - Provides detailed insights into errors and unexpected behavior.\n",
        " - Helps pinpoint issues quickly without modifying code extensively.\n",
        " 2. Performance Monitoring\n",
        " - Tracks execution times, resource usage, and bottlenecks.\n",
        " - Helps optimize code efficiency based on recorded data.\n",
        " 3. Security & Auditing\n",
        " - Records login attempts, access logs, and suspicious activities.\n",
        " - Enables tracing events for security investigations.\n",
        " 4. Automation & Alerts\n",
        " - Can trigger notifications or automated actions when specific events occur.\n",
        " - Useful in system monitoring and anomaly detection.\n",
        " 5. Persistent Record-Keeping\n",
        " - Maintains logs even after a system restart for historical analysis.\n",
        " - Useful for compliance, reporting, and future references.\n"
      ],
      "metadata": {
        "id": "xEG0xYUcj9zS"
      }
    },
    {
      "cell_type": "markdown",
      "source": [
        "11. What is memory management in Python?\n",
        "-  Memory management in Python refers to the process of efficiently allocating, using, and deallocating memory to ensure smooth execution of programs without memory leaks or unnecessary consumption.\n",
        "- Key Features of Memory Management in Python\n",
        "1. Automatic Garbage Collection\n",
        " - Python uses a built-in garbage collector to clean up unused objects automatically.\n",
        " - Objects that are no longer referenced are deleted to free memory.\n",
        "2. Reference Counting\n",
        " - Each object has a reference count indicating the number of times it is being used.\n",
        " - When an object's reference count drops to zero, it is removed from memory.\n",
        "3. Memory Pools\n",
        " - Python maintains different memory pools for small objects to optimize performance.\n",
        " - The PyMalloc allocator is used for managing these memory blocks efficiently.\n",
        "4. Dynamic Memory Allocation\n",
        " - Python allows dynamic memory allocation, meaning objects can grow or shrink as needed during runtime.\n",
        " - Large objects may be managed directly by the operating system.\n",
        "5. Manual Memory Management (del Statement)\n",
        " - The del keyword allows explicit removal of an object from memory.\n"
      ],
      "metadata": {
        "id": "L3lhlq_6mEv9"
      }
    },
    {
      "cell_type": "markdown",
      "source": [
        "12. What are the basic steps involved in exception handling in Python?\n",
        "-  Exception handling in Python ensures that errors are properly managed, preventing program crashes and improving reliability. Here are the basic steps involved:\n",
        "1. Use a try Block\n",
        " - Wrap the code that might raise an exception inside a try block.\n",
        "\n",
        "2. Handle Errors with except\n",
        " - Catch the exception and define an appropriate response.\n",
        "\n",
        "3. Use finally for Cleanup (Optional)\n",
        " - Ensure resources (like files or database connections) are properly closed.\n",
        "\n",
        "4. Use else to Execute Code Only if No Exceptions Occur (Optional)\n",
        " - The else block runs if no errors occur in the try block.\n",
        "\n",
        "5. Raise Exceptions Manually (If Needed)\n",
        " - Use raise to trigger a custom exception.\n"
      ],
      "metadata": {
        "id": "_Xe5fSwBm13E"
      }
    },
    {
      "cell_type": "markdown",
      "source": [
        "13. Why is memory management important in Python?\n",
        "-  Memory management is crucial in Python because it directly impacts the efficiency, performance, and reliability of programs. Here’s why it matters:\n",
        " 1. Prevents Memory Leaks\n",
        " - Unmanaged memory can lead to leaks, where memory is allocated but never freed.\n",
        " - Python’s garbage collector automatically cleans up unused objects, preventing memory leaks.\n",
        " 2. Optimizes Performance\n",
        " - Python uses efficient memory pools for handling frequently used objects.\n",
        " - Reference counting ensures objects are deleted when no longer needed, freeing up space.\n",
        " 3. Enables Scalability\n",
        " - Proper memory management allows Python programs to handle large datasets and complex computations efficiently.\n",
        " - Helps in reducing excess memory consumption, especially for high-performance applications.\n",
        " 4. Improves Code Reliability\n",
        " - Automatic garbage collection reduces the risk of crashes due to memory exhaustion.\n",
        " - Encourages better coding practices for managing objects efficiently.\n",
        " 5. Supports Multi-Tasking & Large Applications\n",
        " - Efficient memory usage is essential for multithreading and multiprocessing applications.\n",
        " - Ensures resources are properly managed when running concurrent tasks.\n"
      ],
      "metadata": {
        "id": "ixXeyeYsnlyP"
      }
    },
    {
      "cell_type": "markdown",
      "source": [
        "14. What is the role of try and except in exception handling?\n",
        "-  The try and except blocks are the foundation of exception handling in Python. They help manage errors gracefully, preventing program crashes and ensuring smooth execution.\n",
        "Role of try Block\n",
        "- Contains code that might raise an exception.\n",
        "- If an error occurs, execution immediately jumps to the except block.\n",
        "- If no error occurs, the program continues normally.\n",
        "Role of except Block\n",
        "- Catches specific exceptions and handles them appropriately.\n",
        "- Prevents abrupt termination of the program.\n",
        "- Allows custom error messages or alternative processing.\n",
        "- Error Prevention: Stops unexpected errors from crashing the program.\n",
        "- Improved Debugging: Helps pinpoint issues by catching specific exceptions.\n",
        "- Enhanced User Experience: Displays meaningful error messages instead of cryptic traces.\n",
        "\n"
      ],
      "metadata": {
        "id": "ob2dMhDYn7MK"
      }
    },
    {
      "cell_type": "markdown",
      "source": [
        "15. How does Python's garbage collection system work?\n",
        "-  Python's garbage collection system helps manage memory efficiently by automatically identifying and freeing unused objects. This prevents memory leaks and optimizes performance.\n",
        "- Key Components of Python's Garbage Collection\n",
        " - Reference Counting\n",
        " - Every object in Python has a reference count, which tracks how many variables refer to it.\n",
        " - When the reference count drops to zero, the object is removed from memory.\n",
        "\n",
        "- Cycle Detection\n",
        " - Python detects and cleans up reference cycles—where objects reference each other but are no longer accessible.\n",
        "\n",
        "- Generational Garbage Collection\n",
        " - Python uses a three-generation model:\n",
        " - Generation 0: Recently created objects (frequent cleanup).\n",
        " - Generation 1: Survived one cleanup cycle.\n",
        " - Generation 2: Long-lived objects (cleaned less often).\n",
        " - Older objects are cleaned less frequently to improve efficiency.\n",
        "- Manually Controlling Garbage Collection\n",
        "  - You can trigger garbage collection manually using the gc module\n"
      ],
      "metadata": {
        "id": "SAhjO1UYoNpQ"
      }
    },
    {
      "cell_type": "markdown",
      "source": [
        "16. What is the purpose of the else block in exception handling?\n",
        "-  The else block in exception handling is used to execute code only if no exceptions occur in the try block. It helps separate the logic that runs when everything proceeds smoothly from the exception-handling logic.\n",
        "- Use the else Block\n",
        " - Avoids Unnecessary Code Execution: Ensures that certain actions only occur when no errors are raised.\n",
        " - Improves Code Clarity: Separates normal execution from error handling, making code more readable.\n",
        " - Optimizes Performance: Prevents redundant checks inside the except block.\n",
        "- The else block only runs when no exceptions are encountered.\n",
        "- It helps maintain clear separation between normal execution and error handling.\n",
        "- It is optional—you can handle exceptions without using else, but it improves structure.\n"
      ],
      "metadata": {
        "id": "UzBnwJTYo_z3"
      }
    },
    {
      "cell_type": "markdown",
      "source": [
        "17.  What are the common logging levels in Python?\n",
        "-  Python's logging module provides a set of standard logging levels to categorize events by severity. These levels, in increasing order of severity, are:\n",
        " - DEBUG (10): Detailed information, typically used for diagnosing problems.\n",
        " - INFO (20): Confirmation that things are working as expected.\n",
        " - WARNING (30): An indication that something unexpected happened, or might happen in the near future, but the software is still working as expected.\n",
        " - ERROR (40): Due to a more serious problem, the software has not been able to perform some function.\n",
        " - CRITICAL (50): A serious error, indicating that the program itself may be unable to continue running.\n",
        "- The numeric values associated with each level are important because they determine which log messages are displayed, depending on the configured logging level. For instance, if the logging level is set to INFO, messages with level INFO, WARNING, ERROR, and CRITICAL will be displayed, while DEBUG messages will be ignored.\n",
        "- The NOTSET level (0) is a special case. If a logger's level is set to NOTSET, it inherits the level of its parent logger. If no parent logger has a level set, the root logger's level, which defaults to WARNING, is used"
      ],
      "metadata": {
        "id": "5Y-JESZapY-_"
      }
    },
    {
      "cell_type": "markdown",
      "source": [
        "18. What is the difference between os.fork() and multiprocessing in Python?\n",
        "-  Both os.fork() and Python's multiprocessing module allow for creating multiple processes, but they differ in functionality, compatibility, and use cases.\n",
        "1. os.fork() (Unix-based Systems)\n",
        " - Creates a child process by duplicating the parent process.\n",
        " - Limited to Unix-like systems (Linux/macOS)—not available on Windows.\n",
        " - The child process runs independently, sharing some memory with the parent.\n",
        " - Best used for low-level process management.\n",
        "\n",
        "2. multiprocessing Module (Cross-platform)\n",
        " - Provides high-level process-based parallelism, making it more Pythonic.\n",
        " - Works on both Unix and Windows, unlike os.fork().\n",
        " - Each process has its own memory space, avoiding shared state issues.\n",
        " - Allows better control, including process pools and communication tools.\n"
      ],
      "metadata": {
        "id": "q1S2V-Rop4IZ"
      }
    },
    {
      "cell_type": "markdown",
      "source": [
        "19. What is the importance of closing a file in Python?\n",
        "-  Closing a file in Python is crucial for proper resource management and preventing potential issues. Here’s why:\n",
        "1. Releases System Resources\n",
        " - Files consume system resources like memory and file descriptors.\n",
        " - Closing a file ensures these resources are freed for other operations.\n",
        "2. Prevents Data Loss & Corruption\n",
        " - When writing to a file, changes may be buffered and not immediately saved.\n",
        " - Closing the file flushes any remaining data, ensuring it is properly written.\n",
        "3. Avoids File Access Conflicts\n",
        " - An open file locks the resource, preventing other programs from modifying it.\n",
        " - Closing allows other processes to access the file safely.\n",
        "4. Improves Performance\n",
        " - Open files consume memory, and keeping too many open can slow down execution.\n",
        " - Closing files ensures efficient resource usage in large applications.\n"
      ],
      "metadata": {
        "id": "9r1rIJ1QqdO1"
      }
    },
    {
      "cell_type": "markdown",
      "source": [
        "20. What is the difference between file.read() and file.readline() in Python?\n",
        "-  The file.read() and file.readline() methods in Python serve different purposes when reading data from a file:\n",
        " - file.read():\n",
        "This method reads the entire content of the file as a single string. If a size argument is provided (e.g., file.read(10)), it reads up to that number of bytes. If the size is omitted, it reads the entire file content.\n",
        " - file.readline():\n",
        "This method reads a single line from the file, including the newline character (\\n) at the end, and returns it as a string. Subsequent calls to file.readline() will read the next line, and so on. If it reaches the end of the file, it returns an empty string."
      ],
      "metadata": {
        "id": "A4UZ7Cp2qrwH"
      }
    },
    {
      "cell_type": "markdown",
      "source": [
        "21. What is the logging module in Python used for?\n",
        "-  The logging module in Python is used for tracking events, errors, and debug information in a program. It helps developers monitor execution, diagnose issues, and maintain records of important actions.\n",
        "Key Uses of the Logging Module\n",
        "1. Debugging & Troubleshooting\n",
        " - Provides detailed logs to identify bugs and unexpected behavior.\n",
        " - Eliminates excessive use of print() statements.\n",
        "2. Monitoring & Performance Tracking\n",
        " - Helps track execution flow and measure performance bottlenecks.\n",
        " - Useful in large applications or services.\n",
        "3. Error Handling & Alerts\n",
        " - Captures critical errors for later analysis.\n",
        " - Can trigger alerts when issues arise.\n",
        "4. Security & Audit Logging\n",
        " - Records login attempts, failed authentications, and security warnings.\n",
        " - Useful for compliance and forensic investigations.\n"
      ],
      "metadata": {
        "id": "CtEEsShWq71E"
      }
    },
    {
      "cell_type": "markdown",
      "source": [
        "22. What is the os module in Python used for in file handling?\n",
        "-  The os module in Python is used for interacting with the operating system, particularly for file and directory operations. It provides functions to access files, get file paths, and perform various file system manipulations.\n",
        " - File System Navigation and Manipulation:\n",
        "The os module allows you to navigate through directories, create and delete directories, and rename files.\n",
        " - Path Handling:\n",
        "It provides tools for working with file paths, such as joining paths, extracting file names and extensions, and checking if a path exists, according to a Reddit post.\n",
        " - File Operations:\n",
        "The os module can be used to create, delete, and rename files, although the standard open() function is often used for reading and writing file content, according to a post on Reddit.\n",
        " - Operating System Interaction:\n",
        "It enables you to interact with operating system-specific functionalities, providing a portable way to use these functionalities across different platforms.\n",
        "\n",
        " In essence, the os module is a bridge between your Python code and the underlying file system of your operating system, facilitating tasks like accessing, managing, and manipulating files and directories."
      ],
      "metadata": {
        "id": "I-Ti8aqyrbW8"
      }
    },
    {
      "cell_type": "markdown",
      "source": [
        "23. What are the challenges associated with memory management in Python?\n",
        "-  Memory management in Python is automatic, thanks to its built-in garbage collector, but it still comes with certain challenges. Here are some key issues developers may encounter:\n",
        "1. Reference Cycles\n",
        " - Objects that reference each other may not be automatically freed by reference counting.\n",
        " - Python’s garbage collector detects these cycles, but it can cause delays in memory cleanup.\n",
        "\n",
        "2. Global Interpreter Lock (GIL) Impact\n",
        " - The GIL restricts Python to running one thread at a time, even on multi-core CPUs.\n",
        " - This can affect memory efficiency in multi-threaded applications.\n",
        " - Solution: Use the multiprocessing module for parallel execution.\n",
        "\n",
        "3. Excessive Memory Consumption\n",
        " - Python allows dynamic memory allocation, but improper use of large data structures can increase memory usage.\n",
        "\n",
        "4. Delayed Garbage Collection\n",
        " - Python’s garbage collector may not immediately free memory, leading to temporary high memory usage.\n",
        " - Manual garbage collection using the gc module can help\n",
        "\n",
        "5. Memory Fragmentation\n",
        " - Frequent allocations and deallocations can create gaps in memory.\n",
        " - Solution: Use memory-efficient data structures, such as array or generators.\n"
      ],
      "metadata": {
        "id": "XXtAxstjr5az"
      }
    },
    {
      "cell_type": "markdown",
      "source": [
        "24. How do you raise an exception manually in Python?\n",
        "-  In Python, you can manually raise an exception using the raise keyword. This is useful when you want to trigger errors intentionally, enforce constraints, or handle unexpected conditions in a controlled way.\n"
      ],
      "metadata": {
        "id": "EknkiCtiscyX"
      }
    },
    {
      "cell_type": "markdown",
      "source": [
        "25. Why is it important to use multithreading in certain applications?\n",
        "-  Multithreading is essential in certain applications because it allows for concurrent execution, improving efficiency and responsiveness. Here’s why it matters:\n",
        "1. Enhanced Performance for I/O-Bound Tasks\n",
        " - Multithreading is ideal for applications that spend time waiting (e.g., reading files, network operations, or database queries).\n",
        " - Instead of blocking execution, multiple threads can handle tasks simultaneously, reducing idle time.\n",
        "2. Improved Responsiveness\n",
        " - In GUI applications, multithreading ensures the user interface remains responsive while background tasks run.\n",
        " - Example: A text editor can process user input while autosaving documents in a separate thread.\n",
        "3. Efficient Resource Utilization\n",
        " - Threads share memory, reducing the overhead of creating separate processes.\n",
        " - Faster context switching compared to multiprocessing.\n",
        "4. Parallel Execution in Multi-Core Systems\n",
        " - While Python's Global Interpreter Lock (GIL) limits true parallel execution for CPU-bound tasks, multithreading still improves performance for I/O operations.\n",
        " - In non-GIL environments, threads can fully utilize multiple CPU cores.\n",
        "5. Real-Time Data Processing\n",
        " - Applications that require continuous data streaming—like web scraping or logging systems—benefit from multithreading.\n",
        " - Threads can handle incoming data while others process existing information.\n"
      ],
      "metadata": {
        "id": "Jb3SXZzustXT"
      }
    },
    {
      "cell_type": "code",
      "source": [
        "# How can you open a file for writing in Python and write a string to it?\n",
        "with open(\"example.txt\", \"w\") as file:\n",
        "    file.write(\"Hello, Python!\")\n",
        "\n",
        "with open(\"example.txt\", \"r\") as file:\n",
        "    content = file.read()\n",
        "    print(content)"
      ],
      "metadata": {
        "colab": {
          "base_uri": "https://localhost:8080/"
        },
        "id": "5vDDTJv2tEp6",
        "outputId": "c9f04820-e9b7-403b-f71a-2d36a81d563d"
      },
      "execution_count": 1,
      "outputs": [
        {
          "output_type": "stream",
          "name": "stdout",
          "text": [
            "Hello, Python!\n"
          ]
        }
      ]
    },
    {
      "cell_type": "code",
      "source": [
        "# Write a Python program to read the contents of a file and print each line.\n",
        "\n",
        "with open(\"example.txt\", \"r\") as file:\n",
        "\n",
        "    for line in file:\n",
        "        print(line.strip())"
      ],
      "metadata": {
        "colab": {
          "base_uri": "https://localhost:8080/"
        },
        "id": "itlxrr_Htkf3",
        "outputId": "2b08b99b-e70d-4684-d6c9-f6b7ebfaa9a0"
      },
      "execution_count": 2,
      "outputs": [
        {
          "output_type": "stream",
          "name": "stdout",
          "text": [
            "Hello, Python!\n"
          ]
        }
      ]
    },
    {
      "cell_type": "code",
      "source": [
        "# How would you handle a case where the file doesn't exist while trying to open it for reading?\n",
        "try:\n",
        "    with open(\"missing_file.txt\", \"r\") as file:\n",
        "        content = file.read()\n",
        "        print(content)\n",
        "except FileNotFoundError:\n",
        "    print(\"Error: The file does not exist. Please check the file name or path.\")"
      ],
      "metadata": {
        "colab": {
          "base_uri": "https://localhost:8080/"
        },
        "id": "UolNxX0kt4ZF",
        "outputId": "d907b3c7-6e28-4ae6-a329-9d85e81d7692"
      },
      "execution_count": 3,
      "outputs": [
        {
          "output_type": "stream",
          "name": "stdout",
          "text": [
            "Error: The file does not exist. Please check the file name or path.\n"
          ]
        }
      ]
    },
    {
      "cell_type": "code",
      "source": [
        "# Write a Python script that reads from one file and writes its content to another file.\n",
        "\n",
        "with open(\"source.txt\", \"r\") as source_file:\n",
        "    content = source_file.read()\n",
        "\n",
        "with open(\"destination.txt\", \"w\") as destination_file:\n",
        "    destination_file.write(content)\n",
        "\n",
        "print(\"File copied successfully!\")"
      ],
      "metadata": {
        "colab": {
          "base_uri": "https://localhost:8080/",
          "height": 211
        },
        "collapsed": true,
        "id": "sXlGWOjUuNS8",
        "outputId": "767d4f7d-2775-431d-c531-32a71d311140"
      },
      "execution_count": 6,
      "outputs": [
        {
          "output_type": "error",
          "ename": "FileNotFoundError",
          "evalue": "[Errno 2] No such file or directory: 'source.txt'",
          "traceback": [
            "\u001b[0;31m---------------------------------------------------------------------------\u001b[0m",
            "\u001b[0;31mFileNotFoundError\u001b[0m                         Traceback (most recent call last)",
            "\u001b[0;32m<ipython-input-6-f096892c652f>\u001b[0m in \u001b[0;36m<cell line: 0>\u001b[0;34m()\u001b[0m\n\u001b[1;32m      1\u001b[0m \u001b[0;31m# Write a Python script that reads from one file and writes its content to another file.\u001b[0m\u001b[0;34m\u001b[0m\u001b[0;34m\u001b[0m\u001b[0m\n\u001b[1;32m      2\u001b[0m \u001b[0;34m\u001b[0m\u001b[0m\n\u001b[0;32m----> 3\u001b[0;31m \u001b[0;32mwith\u001b[0m \u001b[0mopen\u001b[0m\u001b[0;34m(\u001b[0m\u001b[0;34m\"source.txt\"\u001b[0m\u001b[0;34m,\u001b[0m \u001b[0;34m\"r\"\u001b[0m\u001b[0;34m)\u001b[0m \u001b[0;32mas\u001b[0m \u001b[0msource_file\u001b[0m\u001b[0;34m:\u001b[0m\u001b[0;34m\u001b[0m\u001b[0;34m\u001b[0m\u001b[0m\n\u001b[0m\u001b[1;32m      4\u001b[0m     \u001b[0mcontent\u001b[0m \u001b[0;34m=\u001b[0m \u001b[0msource_file\u001b[0m\u001b[0;34m.\u001b[0m\u001b[0mread\u001b[0m\u001b[0;34m(\u001b[0m\u001b[0;34m)\u001b[0m\u001b[0;34m\u001b[0m\u001b[0;34m\u001b[0m\u001b[0m\n\u001b[1;32m      5\u001b[0m \u001b[0;34m\u001b[0m\u001b[0m\n",
            "\u001b[0;31mFileNotFoundError\u001b[0m: [Errno 2] No such file or directory: 'source.txt'"
          ]
        }
      ]
    },
    {
      "cell_type": "code",
      "source": [
        "# How would you catch and handle division by zero error in Python?\n",
        "try:\n",
        "    num = int(input(\"Enter a number: \"))\n",
        "    result = 10 / num\n",
        "    print(f\"Result: {result}\")\n",
        "except ZeroDivisionError:\n",
        "    print(\"Error: You cannot divide by zero.\")\n",
        "except ValueError:\n",
        "    print(\"Error: Please enter a valid number.\")"
      ],
      "metadata": {
        "colab": {
          "base_uri": "https://localhost:8080/"
        },
        "id": "Qa51NxhRuc7d",
        "outputId": "2045b3df-cdb4-4d85-d444-793329ce390a"
      },
      "execution_count": 8,
      "outputs": [
        {
          "output_type": "stream",
          "name": "stdout",
          "text": [
            "Enter a number: 0\n",
            "Error: You cannot divide by zero.\n"
          ]
        }
      ]
    },
    {
      "cell_type": "code",
      "source": [
        "# Write a Python program that logs an error message to a log file when a division by zero exception occurs.\n",
        "import logging\n",
        "\n",
        "logging.basicConfig(filename=\"error_log.txt\", level=logging.ERROR, format=\"%(asctime)s - %(levelname)s - %(message)s\")\n",
        "\n",
        "def divide_numbers(a, b):\n",
        "    try:\n",
        "        result = a / b\n",
        "        print(f\"Result: {result}\")\n",
        "    except ZeroDivisionError:\n",
        "        logging.error(\"Division by zero error occurred.\")\n",
        "        print(\"Error: You cannot divide by zero.\")"
      ],
      "metadata": {
        "id": "Wm9P87QEvidd"
      },
      "execution_count": 10,
      "outputs": []
    },
    {
      "cell_type": "code",
      "source": [
        "# How do you log information at different levels (INFO, ERROR, WARNING) in Python using the logging module?\n",
        "import logging\n",
        "\n",
        "logging.basicConfig(filename=\"app.log\", level=logging.DEBUG, format=\"%(asctime)s - %(levelname)s - %(message)s\")\n",
        "\n",
        "logging.debug(\"This is a DEBUG message – useful for troubleshooting.\")\n",
        "logging.info(\"INFO message – general application update.\")\n",
        "logging.warning(\"WARNING message – potential issue detected.\")\n",
        "logging.error(\"ERROR message – a serious problem occurred.\")\n",
        "logging.critical(\"CRITICAL message – system failure!\")\n",
        "\n",
        "print(\"Logging completed. Check 'app.log' for details.\")"
      ],
      "metadata": {
        "colab": {
          "base_uri": "https://localhost:8080/"
        },
        "id": "RMqi-jAOva6U",
        "outputId": "9bbd8c77-1f02-4e9f-96bf-4e9d87e692c7"
      },
      "execution_count": 11,
      "outputs": [
        {
          "output_type": "stream",
          "name": "stderr",
          "text": [
            "WARNING:root:WARNING message – potential issue detected.\n",
            "ERROR:root:ERROR message – a serious problem occurred.\n",
            "CRITICAL:root:CRITICAL message – system failure!\n"
          ]
        },
        {
          "output_type": "stream",
          "name": "stdout",
          "text": [
            "Logging completed. Check 'app.log' for details.\n"
          ]
        }
      ]
    },
    {
      "cell_type": "code",
      "source": [
        "# Write a program to handle a file opening error using exception handling.\n",
        "try:\n",
        "    with open(\"non_existent_file.txt\", \"r\") as file:\n",
        "        content = file.read()\n",
        "        print(content)\n",
        "except FileNotFoundError:\n",
        "    print(\"Error: The file does not exist. Please check the filename or path.\")\n",
        "except PermissionError:\n",
        "    print(\"Error: You do not have permission to access this file.\")\n",
        "except Exception as e:\n",
        "    print(f\"An unexpected error occurred: {e}\")"
      ],
      "metadata": {
        "colab": {
          "base_uri": "https://localhost:8080/"
        },
        "id": "BYhEpyOlwaVq",
        "outputId": "85853fe3-a15a-405e-b14e-97ceb03db43f"
      },
      "execution_count": 12,
      "outputs": [
        {
          "output_type": "stream",
          "name": "stdout",
          "text": [
            "Error: The file does not exist. Please check the filename or path.\n"
          ]
        }
      ]
    },
    {
      "cell_type": "code",
      "source": [
        "# How can you read a file line by line and store its content in a list in Python?\n",
        "with open(\"example.txt\", \"r\") as file:\n",
        "    lines = file.readlines()\n",
        "    print(lines)"
      ],
      "metadata": {
        "colab": {
          "base_uri": "https://localhost:8080/"
        },
        "id": "fY9NK8_Awr7z",
        "outputId": "f06624c9-4540-473a-a23e-e0e68aae05c0"
      },
      "execution_count": 13,
      "outputs": [
        {
          "output_type": "stream",
          "name": "stdout",
          "text": [
            "['Hello, Python!']\n"
          ]
        }
      ]
    },
    {
      "cell_type": "code",
      "source": [
        "# How can you append data to an existing file in Python?\n",
        "with open(\"example.txt\", \"a\") as file:\n",
        "    file.write(\"\\nAppending some more content.\")\n",
        "\n",
        "    with open(\"example.txt\", \"r\") as file:\n",
        "        content = file.read()\n",
        "        print(content)"
      ],
      "metadata": {
        "colab": {
          "base_uri": "https://localhost:8080/"
        },
        "id": "rVsRzdxuw4U6",
        "outputId": "1d51e3f2-8072-4981-dd70-704af4dcbed6"
      },
      "execution_count": 14,
      "outputs": [
        {
          "output_type": "stream",
          "name": "stdout",
          "text": [
            "Hello, Python!\n"
          ]
        }
      ]
    },
    {
      "cell_type": "code",
      "source": [
        "# Write a Python program that uses a try-except block to handle an error when attempting to access a dictionary key that doesn't exist.\n",
        "\n",
        "student_scores = {\"Alice\": 52, \"Bob\": 91, \"Charlie\": 86}\n",
        "\n",
        "try:\n",
        "    score = student_scores[\"David\"]\n",
        "    print(f\"David's score: {score}\")\n",
        "except KeyError:\n",
        "    print(\"Error: The key does not exist in the dictionary.\")"
      ],
      "metadata": {
        "colab": {
          "base_uri": "https://localhost:8080/"
        },
        "id": "7yU7SpfOxHRK",
        "outputId": "468f6b88-3274-4b9c-f458-fe3010dd0c7a"
      },
      "execution_count": 15,
      "outputs": [
        {
          "output_type": "stream",
          "name": "stdout",
          "text": [
            "Error: The key does not exist in the dictionary.\n"
          ]
        }
      ]
    },
    {
      "cell_type": "code",
      "source": [
        "# Write a program that demonstrates using multiple except blocks to handle different types of exceptions\n",
        "try:\n",
        "    num = int(input(\"Enter a number: \"))\n",
        "    result = 10 / num\n",
        "\n",
        "    student_scores = {\"Alice\": 80, \"Bob\": 95}\n",
        "    score = student_scores[\"Charlie\"]\n",
        "\n",
        "    print(f\"Result: {result}\")\n",
        "    print(f\"Charlie's score: {score}\")\n",
        "\n",
        "except ZeroDivisionError:\n",
        "    print(\"Error: Division by zero is not allowed.\")\n",
        "\n",
        "except ValueError:\n",
        "    print(\"Error: Invalid input! Please enter a valid integer.\")\n",
        "\n",
        "except KeyError:\n",
        "    print(\"Error: The key does not exist in the dictionary.\")\n",
        "\n",
        "except Exception as e:\n",
        "    print(f\"An unexpected error occurred: {e}\")"
      ],
      "metadata": {
        "colab": {
          "base_uri": "https://localhost:8080/"
        },
        "id": "W4azLYUExeAJ",
        "outputId": "5e13e0ef-d927-48ae-f8a3-bd7f187a491e"
      },
      "execution_count": 18,
      "outputs": [
        {
          "output_type": "stream",
          "name": "stdout",
          "text": [
            "Enter a number: 0\n",
            "Error: Division by zero is not allowed.\n"
          ]
        }
      ]
    },
    {
      "cell_type": "code",
      "source": [
        "# How would you check if a file exists before attempting to read it in Python?\n",
        "import os\n",
        "\n",
        "file_path = \"example.txt\"\n",
        "\n",
        "if os.path.exists(file_path):\n",
        "    with open(file_path, \"r\") as file:\n",
        "        content = file.read()\n",
        "        print(content)\n",
        "else:\n",
        "    print(\"Error: The file does not exist.\")"
      ],
      "metadata": {
        "colab": {
          "base_uri": "https://localhost:8080/"
        },
        "id": "F-KcRPuNx91C",
        "outputId": "cc8b6579-2adb-408a-f3db-73735f51fccd"
      },
      "execution_count": 19,
      "outputs": [
        {
          "output_type": "stream",
          "name": "stdout",
          "text": [
            "Hello, Python!\n",
            "Appending some more content.\n"
          ]
        }
      ]
    },
    {
      "cell_type": "code",
      "source": [
        "# Write a program that uses the logging module to log both informational and error messages.\n",
        "import logging\n",
        "logging.basicConfig(\n",
        "    filename=\"app.log\",\n",
        "    level=logging.DEBUG,\n",
        "    format=\"%(asctime)s - %(levelname)s - %(message)s\"\n",
        ")\n",
        "\n",
        "def divide_numbers(a, b):\n",
        "    try:\n",
        "        result = a / b\n",
        "        logging.info(f\"Successful division: {a} / {b} = {result}\")\n",
        "        return result\n",
        "    except ZeroDivisionError:\n",
        "        logging.error(\"Error: Division by zero attempted!\")\n",
        "        return None\n",
        "\n",
        "divide_numbers(10, 2)\n",
        "divide_numbers(10, 0)\n",
        "\n",
        "print(\"Logging completed! Check 'app.log' for the logged messages.\")"
      ],
      "metadata": {
        "colab": {
          "base_uri": "https://localhost:8080/"
        },
        "id": "2JrmcJpoy0KR",
        "outputId": "2ef64073-1430-4c12-e7b8-967253121280"
      },
      "execution_count": 20,
      "outputs": [
        {
          "output_type": "stream",
          "name": "stderr",
          "text": [
            "ERROR:root:Error: Division by zero attempted!\n"
          ]
        },
        {
          "output_type": "stream",
          "name": "stdout",
          "text": [
            "Logging completed! Check 'app.log' for the logged messages.\n"
          ]
        }
      ]
    },
    {
      "cell_type": "code",
      "source": [
        "# Write a Python program that prints the content of a file and handles the case when the file is empty.\n",
        "def read_file(file_path):\n",
        "    try:\n",
        "        with open(file_path, \"r\") as file:\n",
        "            content = file.read().strip()\n",
        "            if content:\n",
        "                print(\"File Contents:\\n\", content)\n",
        "            else:\n",
        "                print(\"The file is empty.\")\n",
        "    except FileNotFoundError:\n",
        "        print(\"Error: The file does not exist.\")\n",
        "    except Exception as e:\n",
        "        print(f\"An unexpected error occurred: {e}\")\n",
        "\n",
        "read_file(\"example.txt\")\n",
        "read_file(\"empty_file.txt\")"
      ],
      "metadata": {
        "colab": {
          "base_uri": "https://localhost:8080/"
        },
        "id": "4hC90IV2zXAB",
        "outputId": "d26257c9-c05e-452e-a812-44a11f135507"
      },
      "execution_count": 24,
      "outputs": [
        {
          "output_type": "stream",
          "name": "stdout",
          "text": [
            "File Contents:\n",
            " Hello, Python!\n",
            "Appending some more content.\n",
            "Error: The file does not exist.\n"
          ]
        }
      ]
    },
    {
      "cell_type": "code",
      "source": [
        "# Write a Python program to create and write a list of numbers to a file, one number per line.\n",
        "with open(\"numbers.txt\", \"w\") as file:\n",
        "    numbers = [1, 2, 3, 4, 5]\n",
        "    for num in numbers:\n",
        "        file.write(str(num) + \"\\n\")\n",
        "\n",
        "with open(\"numbers.txt\", \"r\") as file:\n",
        "    lines = file.readlines()\n",
        "    print(\"Numbers from the file:\")\n",
        "    for line in lines:\n",
        "        print(line.strip())\n",
        "\n"
      ],
      "metadata": {
        "colab": {
          "base_uri": "https://localhost:8080/"
        },
        "id": "2FzoQbBA0PCP",
        "outputId": "79c4ae08-08cd-4cc2-8718-0fb679ade62a"
      },
      "execution_count": 28,
      "outputs": [
        {
          "output_type": "stream",
          "name": "stdout",
          "text": [
            "Numbers from the file:\n",
            "1\n",
            "2\n",
            "3\n",
            "4\n",
            "5\n"
          ]
        }
      ]
    },
    {
      "cell_type": "code",
      "source": [
        "# How would you implement a basic logging setup that logs to a file with rotation after 1MB?\n",
        "import logging\n",
        "from logging.handlers import RotatingFileHandler\n",
        "\n",
        "logger = logging.getLogger(\"RotatingLogger\")\n",
        "logger.setLevel(logging.DEBUG)\n",
        "\n",
        "handler = RotatingFileHandler(\"app.log\", maxBytes=1_048_576, backupCount=3)\n",
        "handler.setFormatter(logging.Formatter(\"%(asctime)s - %(levelname)s - %(message)s\"))\n",
        "\n",
        "logger.addHandler(handler)\n",
        "\n",
        "for i in range(1000):\n",
        "    logger.info(f\"Logging entry {i}\")\n",
        "\n",
        "print(\"Logging setup complete! Check 'app.log' for details.\")"
      ],
      "metadata": {
        "colab": {
          "base_uri": "https://localhost:8080/"
        },
        "collapsed": true,
        "id": "3itxtVO_1Cme",
        "outputId": "32b2ef36-e196-4a15-b3fd-ff5c0cc6f59a"
      },
      "execution_count": 29,
      "outputs": [
        {
          "output_type": "stream",
          "name": "stderr",
          "text": [
            "INFO:RotatingLogger:Logging entry 0\n",
            "INFO:RotatingLogger:Logging entry 1\n",
            "INFO:RotatingLogger:Logging entry 2\n",
            "INFO:RotatingLogger:Logging entry 3\n",
            "INFO:RotatingLogger:Logging entry 4\n",
            "INFO:RotatingLogger:Logging entry 5\n",
            "INFO:RotatingLogger:Logging entry 6\n",
            "INFO:RotatingLogger:Logging entry 7\n",
            "INFO:RotatingLogger:Logging entry 8\n",
            "INFO:RotatingLogger:Logging entry 9\n",
            "INFO:RotatingLogger:Logging entry 10\n",
            "INFO:RotatingLogger:Logging entry 11\n",
            "INFO:RotatingLogger:Logging entry 12\n",
            "INFO:RotatingLogger:Logging entry 13\n",
            "INFO:RotatingLogger:Logging entry 14\n",
            "INFO:RotatingLogger:Logging entry 15\n",
            "INFO:RotatingLogger:Logging entry 16\n",
            "INFO:RotatingLogger:Logging entry 17\n",
            "INFO:RotatingLogger:Logging entry 18\n",
            "INFO:RotatingLogger:Logging entry 19\n",
            "INFO:RotatingLogger:Logging entry 20\n",
            "INFO:RotatingLogger:Logging entry 21\n",
            "INFO:RotatingLogger:Logging entry 22\n",
            "INFO:RotatingLogger:Logging entry 23\n",
            "INFO:RotatingLogger:Logging entry 24\n",
            "INFO:RotatingLogger:Logging entry 25\n",
            "INFO:RotatingLogger:Logging entry 26\n",
            "INFO:RotatingLogger:Logging entry 27\n",
            "INFO:RotatingLogger:Logging entry 28\n",
            "INFO:RotatingLogger:Logging entry 29\n",
            "INFO:RotatingLogger:Logging entry 30\n",
            "INFO:RotatingLogger:Logging entry 31\n",
            "INFO:RotatingLogger:Logging entry 32\n",
            "INFO:RotatingLogger:Logging entry 33\n",
            "INFO:RotatingLogger:Logging entry 34\n",
            "INFO:RotatingLogger:Logging entry 35\n",
            "INFO:RotatingLogger:Logging entry 36\n",
            "INFO:RotatingLogger:Logging entry 37\n",
            "INFO:RotatingLogger:Logging entry 38\n",
            "INFO:RotatingLogger:Logging entry 39\n",
            "INFO:RotatingLogger:Logging entry 40\n",
            "INFO:RotatingLogger:Logging entry 41\n",
            "INFO:RotatingLogger:Logging entry 42\n",
            "INFO:RotatingLogger:Logging entry 43\n",
            "INFO:RotatingLogger:Logging entry 44\n",
            "INFO:RotatingLogger:Logging entry 45\n",
            "INFO:RotatingLogger:Logging entry 46\n",
            "INFO:RotatingLogger:Logging entry 47\n",
            "INFO:RotatingLogger:Logging entry 48\n",
            "INFO:RotatingLogger:Logging entry 49\n",
            "INFO:RotatingLogger:Logging entry 50\n",
            "INFO:RotatingLogger:Logging entry 51\n",
            "INFO:RotatingLogger:Logging entry 52\n",
            "INFO:RotatingLogger:Logging entry 53\n",
            "INFO:RotatingLogger:Logging entry 54\n",
            "INFO:RotatingLogger:Logging entry 55\n",
            "INFO:RotatingLogger:Logging entry 56\n",
            "INFO:RotatingLogger:Logging entry 57\n",
            "INFO:RotatingLogger:Logging entry 58\n",
            "INFO:RotatingLogger:Logging entry 59\n",
            "INFO:RotatingLogger:Logging entry 60\n",
            "INFO:RotatingLogger:Logging entry 61\n",
            "INFO:RotatingLogger:Logging entry 62\n",
            "INFO:RotatingLogger:Logging entry 63\n",
            "INFO:RotatingLogger:Logging entry 64\n",
            "INFO:RotatingLogger:Logging entry 65\n",
            "INFO:RotatingLogger:Logging entry 66\n",
            "INFO:RotatingLogger:Logging entry 67\n",
            "INFO:RotatingLogger:Logging entry 68\n",
            "INFO:RotatingLogger:Logging entry 69\n",
            "INFO:RotatingLogger:Logging entry 70\n",
            "INFO:RotatingLogger:Logging entry 71\n",
            "INFO:RotatingLogger:Logging entry 72\n",
            "INFO:RotatingLogger:Logging entry 73\n",
            "INFO:RotatingLogger:Logging entry 74\n",
            "INFO:RotatingLogger:Logging entry 75\n",
            "INFO:RotatingLogger:Logging entry 76\n",
            "INFO:RotatingLogger:Logging entry 77\n",
            "INFO:RotatingLogger:Logging entry 78\n",
            "INFO:RotatingLogger:Logging entry 79\n",
            "INFO:RotatingLogger:Logging entry 80\n",
            "INFO:RotatingLogger:Logging entry 81\n",
            "INFO:RotatingLogger:Logging entry 82\n",
            "INFO:RotatingLogger:Logging entry 83\n",
            "INFO:RotatingLogger:Logging entry 84\n",
            "INFO:RotatingLogger:Logging entry 85\n",
            "INFO:RotatingLogger:Logging entry 86\n",
            "INFO:RotatingLogger:Logging entry 87\n",
            "INFO:RotatingLogger:Logging entry 88\n",
            "INFO:RotatingLogger:Logging entry 89\n",
            "INFO:RotatingLogger:Logging entry 90\n",
            "INFO:RotatingLogger:Logging entry 91\n",
            "INFO:RotatingLogger:Logging entry 92\n",
            "INFO:RotatingLogger:Logging entry 93\n",
            "INFO:RotatingLogger:Logging entry 94\n",
            "INFO:RotatingLogger:Logging entry 95\n",
            "INFO:RotatingLogger:Logging entry 96\n",
            "INFO:RotatingLogger:Logging entry 97\n",
            "INFO:RotatingLogger:Logging entry 98\n",
            "INFO:RotatingLogger:Logging entry 99\n",
            "INFO:RotatingLogger:Logging entry 100\n",
            "INFO:RotatingLogger:Logging entry 101\n",
            "INFO:RotatingLogger:Logging entry 102\n",
            "INFO:RotatingLogger:Logging entry 103\n",
            "INFO:RotatingLogger:Logging entry 104\n",
            "INFO:RotatingLogger:Logging entry 105\n",
            "INFO:RotatingLogger:Logging entry 106\n",
            "INFO:RotatingLogger:Logging entry 107\n",
            "INFO:RotatingLogger:Logging entry 108\n",
            "INFO:RotatingLogger:Logging entry 109\n",
            "INFO:RotatingLogger:Logging entry 110\n",
            "INFO:RotatingLogger:Logging entry 111\n",
            "INFO:RotatingLogger:Logging entry 112\n",
            "INFO:RotatingLogger:Logging entry 113\n",
            "INFO:RotatingLogger:Logging entry 114\n",
            "INFO:RotatingLogger:Logging entry 115\n",
            "INFO:RotatingLogger:Logging entry 116\n",
            "INFO:RotatingLogger:Logging entry 117\n",
            "INFO:RotatingLogger:Logging entry 118\n",
            "INFO:RotatingLogger:Logging entry 119\n",
            "INFO:RotatingLogger:Logging entry 120\n",
            "INFO:RotatingLogger:Logging entry 121\n",
            "INFO:RotatingLogger:Logging entry 122\n",
            "INFO:RotatingLogger:Logging entry 123\n",
            "INFO:RotatingLogger:Logging entry 124\n",
            "INFO:RotatingLogger:Logging entry 125\n",
            "INFO:RotatingLogger:Logging entry 126\n",
            "INFO:RotatingLogger:Logging entry 127\n",
            "INFO:RotatingLogger:Logging entry 128\n",
            "INFO:RotatingLogger:Logging entry 129\n",
            "INFO:RotatingLogger:Logging entry 130\n",
            "INFO:RotatingLogger:Logging entry 131\n",
            "INFO:RotatingLogger:Logging entry 132\n",
            "INFO:RotatingLogger:Logging entry 133\n",
            "INFO:RotatingLogger:Logging entry 134\n",
            "INFO:RotatingLogger:Logging entry 135\n",
            "INFO:RotatingLogger:Logging entry 136\n",
            "INFO:RotatingLogger:Logging entry 137\n",
            "INFO:RotatingLogger:Logging entry 138\n",
            "INFO:RotatingLogger:Logging entry 139\n",
            "INFO:RotatingLogger:Logging entry 140\n",
            "INFO:RotatingLogger:Logging entry 141\n",
            "INFO:RotatingLogger:Logging entry 142\n",
            "INFO:RotatingLogger:Logging entry 143\n",
            "INFO:RotatingLogger:Logging entry 144\n",
            "INFO:RotatingLogger:Logging entry 145\n",
            "INFO:RotatingLogger:Logging entry 146\n",
            "INFO:RotatingLogger:Logging entry 147\n",
            "INFO:RotatingLogger:Logging entry 148\n",
            "INFO:RotatingLogger:Logging entry 149\n",
            "INFO:RotatingLogger:Logging entry 150\n",
            "INFO:RotatingLogger:Logging entry 151\n",
            "INFO:RotatingLogger:Logging entry 152\n",
            "INFO:RotatingLogger:Logging entry 153\n",
            "INFO:RotatingLogger:Logging entry 154\n",
            "INFO:RotatingLogger:Logging entry 155\n",
            "INFO:RotatingLogger:Logging entry 156\n",
            "INFO:RotatingLogger:Logging entry 157\n",
            "INFO:RotatingLogger:Logging entry 158\n",
            "INFO:RotatingLogger:Logging entry 159\n",
            "INFO:RotatingLogger:Logging entry 160\n",
            "INFO:RotatingLogger:Logging entry 161\n",
            "INFO:RotatingLogger:Logging entry 162\n",
            "INFO:RotatingLogger:Logging entry 163\n",
            "INFO:RotatingLogger:Logging entry 164\n",
            "INFO:RotatingLogger:Logging entry 165\n",
            "INFO:RotatingLogger:Logging entry 166\n",
            "INFO:RotatingLogger:Logging entry 167\n",
            "INFO:RotatingLogger:Logging entry 168\n",
            "INFO:RotatingLogger:Logging entry 169\n",
            "INFO:RotatingLogger:Logging entry 170\n",
            "INFO:RotatingLogger:Logging entry 171\n",
            "INFO:RotatingLogger:Logging entry 172\n",
            "INFO:RotatingLogger:Logging entry 173\n",
            "INFO:RotatingLogger:Logging entry 174\n",
            "INFO:RotatingLogger:Logging entry 175\n",
            "INFO:RotatingLogger:Logging entry 176\n",
            "INFO:RotatingLogger:Logging entry 177\n",
            "INFO:RotatingLogger:Logging entry 178\n",
            "INFO:RotatingLogger:Logging entry 179\n",
            "INFO:RotatingLogger:Logging entry 180\n",
            "INFO:RotatingLogger:Logging entry 181\n",
            "INFO:RotatingLogger:Logging entry 182\n",
            "INFO:RotatingLogger:Logging entry 183\n",
            "INFO:RotatingLogger:Logging entry 184\n",
            "INFO:RotatingLogger:Logging entry 185\n",
            "INFO:RotatingLogger:Logging entry 186\n",
            "INFO:RotatingLogger:Logging entry 187\n",
            "INFO:RotatingLogger:Logging entry 188\n",
            "INFO:RotatingLogger:Logging entry 189\n",
            "INFO:RotatingLogger:Logging entry 190\n",
            "INFO:RotatingLogger:Logging entry 191\n",
            "INFO:RotatingLogger:Logging entry 192\n",
            "INFO:RotatingLogger:Logging entry 193\n",
            "INFO:RotatingLogger:Logging entry 194\n",
            "INFO:RotatingLogger:Logging entry 195\n",
            "INFO:RotatingLogger:Logging entry 196\n",
            "INFO:RotatingLogger:Logging entry 197\n",
            "INFO:RotatingLogger:Logging entry 198\n",
            "INFO:RotatingLogger:Logging entry 199\n",
            "INFO:RotatingLogger:Logging entry 200\n",
            "INFO:RotatingLogger:Logging entry 201\n",
            "INFO:RotatingLogger:Logging entry 202\n",
            "INFO:RotatingLogger:Logging entry 203\n",
            "INFO:RotatingLogger:Logging entry 204\n",
            "INFO:RotatingLogger:Logging entry 205\n",
            "INFO:RotatingLogger:Logging entry 206\n",
            "INFO:RotatingLogger:Logging entry 207\n",
            "INFO:RotatingLogger:Logging entry 208\n",
            "INFO:RotatingLogger:Logging entry 209\n",
            "INFO:RotatingLogger:Logging entry 210\n",
            "INFO:RotatingLogger:Logging entry 211\n",
            "INFO:RotatingLogger:Logging entry 212\n",
            "INFO:RotatingLogger:Logging entry 213\n",
            "INFO:RotatingLogger:Logging entry 214\n",
            "INFO:RotatingLogger:Logging entry 215\n",
            "INFO:RotatingLogger:Logging entry 216\n",
            "INFO:RotatingLogger:Logging entry 217\n",
            "INFO:RotatingLogger:Logging entry 218\n",
            "INFO:RotatingLogger:Logging entry 219\n",
            "INFO:RotatingLogger:Logging entry 220\n",
            "INFO:RotatingLogger:Logging entry 221\n",
            "INFO:RotatingLogger:Logging entry 222\n",
            "INFO:RotatingLogger:Logging entry 223\n",
            "INFO:RotatingLogger:Logging entry 224\n",
            "INFO:RotatingLogger:Logging entry 225\n",
            "INFO:RotatingLogger:Logging entry 226\n",
            "INFO:RotatingLogger:Logging entry 227\n",
            "INFO:RotatingLogger:Logging entry 228\n",
            "INFO:RotatingLogger:Logging entry 229\n",
            "INFO:RotatingLogger:Logging entry 230\n",
            "INFO:RotatingLogger:Logging entry 231\n",
            "INFO:RotatingLogger:Logging entry 232\n",
            "INFO:RotatingLogger:Logging entry 233\n",
            "INFO:RotatingLogger:Logging entry 234\n",
            "INFO:RotatingLogger:Logging entry 235\n",
            "INFO:RotatingLogger:Logging entry 236\n",
            "INFO:RotatingLogger:Logging entry 237\n",
            "INFO:RotatingLogger:Logging entry 238\n",
            "INFO:RotatingLogger:Logging entry 239\n",
            "INFO:RotatingLogger:Logging entry 240\n",
            "INFO:RotatingLogger:Logging entry 241\n",
            "INFO:RotatingLogger:Logging entry 242\n",
            "INFO:RotatingLogger:Logging entry 243\n",
            "INFO:RotatingLogger:Logging entry 244\n",
            "INFO:RotatingLogger:Logging entry 245\n",
            "INFO:RotatingLogger:Logging entry 246\n",
            "INFO:RotatingLogger:Logging entry 247\n",
            "INFO:RotatingLogger:Logging entry 248\n",
            "INFO:RotatingLogger:Logging entry 249\n",
            "INFO:RotatingLogger:Logging entry 250\n",
            "INFO:RotatingLogger:Logging entry 251\n",
            "INFO:RotatingLogger:Logging entry 252\n",
            "INFO:RotatingLogger:Logging entry 253\n",
            "INFO:RotatingLogger:Logging entry 254\n",
            "INFO:RotatingLogger:Logging entry 255\n",
            "INFO:RotatingLogger:Logging entry 256\n",
            "INFO:RotatingLogger:Logging entry 257\n",
            "INFO:RotatingLogger:Logging entry 258\n",
            "INFO:RotatingLogger:Logging entry 259\n",
            "INFO:RotatingLogger:Logging entry 260\n",
            "INFO:RotatingLogger:Logging entry 261\n",
            "INFO:RotatingLogger:Logging entry 262\n",
            "INFO:RotatingLogger:Logging entry 263\n",
            "INFO:RotatingLogger:Logging entry 264\n",
            "INFO:RotatingLogger:Logging entry 265\n",
            "INFO:RotatingLogger:Logging entry 266\n",
            "INFO:RotatingLogger:Logging entry 267\n",
            "INFO:RotatingLogger:Logging entry 268\n",
            "INFO:RotatingLogger:Logging entry 269\n",
            "INFO:RotatingLogger:Logging entry 270\n",
            "INFO:RotatingLogger:Logging entry 271\n",
            "INFO:RotatingLogger:Logging entry 272\n",
            "INFO:RotatingLogger:Logging entry 273\n",
            "INFO:RotatingLogger:Logging entry 274\n",
            "INFO:RotatingLogger:Logging entry 275\n",
            "INFO:RotatingLogger:Logging entry 276\n",
            "INFO:RotatingLogger:Logging entry 277\n",
            "INFO:RotatingLogger:Logging entry 278\n",
            "INFO:RotatingLogger:Logging entry 279\n",
            "INFO:RotatingLogger:Logging entry 280\n",
            "INFO:RotatingLogger:Logging entry 281\n",
            "INFO:RotatingLogger:Logging entry 282\n",
            "INFO:RotatingLogger:Logging entry 283\n",
            "INFO:RotatingLogger:Logging entry 284\n",
            "INFO:RotatingLogger:Logging entry 285\n",
            "INFO:RotatingLogger:Logging entry 286\n",
            "INFO:RotatingLogger:Logging entry 287\n",
            "INFO:RotatingLogger:Logging entry 288\n",
            "INFO:RotatingLogger:Logging entry 289\n",
            "INFO:RotatingLogger:Logging entry 290\n",
            "INFO:RotatingLogger:Logging entry 291\n",
            "INFO:RotatingLogger:Logging entry 292\n",
            "INFO:RotatingLogger:Logging entry 293\n",
            "INFO:RotatingLogger:Logging entry 294\n",
            "INFO:RotatingLogger:Logging entry 295\n",
            "INFO:RotatingLogger:Logging entry 296\n",
            "INFO:RotatingLogger:Logging entry 297\n",
            "INFO:RotatingLogger:Logging entry 298\n",
            "INFO:RotatingLogger:Logging entry 299\n",
            "INFO:RotatingLogger:Logging entry 300\n",
            "INFO:RotatingLogger:Logging entry 301\n",
            "INFO:RotatingLogger:Logging entry 302\n",
            "INFO:RotatingLogger:Logging entry 303\n",
            "INFO:RotatingLogger:Logging entry 304\n",
            "INFO:RotatingLogger:Logging entry 305\n",
            "INFO:RotatingLogger:Logging entry 306\n",
            "INFO:RotatingLogger:Logging entry 307\n",
            "INFO:RotatingLogger:Logging entry 308\n",
            "INFO:RotatingLogger:Logging entry 309\n",
            "INFO:RotatingLogger:Logging entry 310\n",
            "INFO:RotatingLogger:Logging entry 311\n",
            "INFO:RotatingLogger:Logging entry 312\n",
            "INFO:RotatingLogger:Logging entry 313\n",
            "INFO:RotatingLogger:Logging entry 314\n",
            "INFO:RotatingLogger:Logging entry 315\n",
            "INFO:RotatingLogger:Logging entry 316\n",
            "INFO:RotatingLogger:Logging entry 317\n",
            "INFO:RotatingLogger:Logging entry 318\n",
            "INFO:RotatingLogger:Logging entry 319\n",
            "INFO:RotatingLogger:Logging entry 320\n",
            "INFO:RotatingLogger:Logging entry 321\n",
            "INFO:RotatingLogger:Logging entry 322\n",
            "INFO:RotatingLogger:Logging entry 323\n",
            "INFO:RotatingLogger:Logging entry 324\n",
            "INFO:RotatingLogger:Logging entry 325\n",
            "INFO:RotatingLogger:Logging entry 326\n",
            "INFO:RotatingLogger:Logging entry 327\n",
            "INFO:RotatingLogger:Logging entry 328\n",
            "INFO:RotatingLogger:Logging entry 329\n",
            "INFO:RotatingLogger:Logging entry 330\n",
            "INFO:RotatingLogger:Logging entry 331\n",
            "INFO:RotatingLogger:Logging entry 332\n",
            "INFO:RotatingLogger:Logging entry 333\n",
            "INFO:RotatingLogger:Logging entry 334\n",
            "INFO:RotatingLogger:Logging entry 335\n",
            "INFO:RotatingLogger:Logging entry 336\n",
            "INFO:RotatingLogger:Logging entry 337\n",
            "INFO:RotatingLogger:Logging entry 338\n",
            "INFO:RotatingLogger:Logging entry 339\n",
            "INFO:RotatingLogger:Logging entry 340\n",
            "INFO:RotatingLogger:Logging entry 341\n",
            "INFO:RotatingLogger:Logging entry 342\n",
            "INFO:RotatingLogger:Logging entry 343\n",
            "INFO:RotatingLogger:Logging entry 344\n",
            "INFO:RotatingLogger:Logging entry 345\n",
            "INFO:RotatingLogger:Logging entry 346\n",
            "INFO:RotatingLogger:Logging entry 347\n",
            "INFO:RotatingLogger:Logging entry 348\n",
            "INFO:RotatingLogger:Logging entry 349\n",
            "INFO:RotatingLogger:Logging entry 350\n",
            "INFO:RotatingLogger:Logging entry 351\n",
            "INFO:RotatingLogger:Logging entry 352\n",
            "INFO:RotatingLogger:Logging entry 353\n",
            "INFO:RotatingLogger:Logging entry 354\n",
            "INFO:RotatingLogger:Logging entry 355\n",
            "INFO:RotatingLogger:Logging entry 356\n",
            "INFO:RotatingLogger:Logging entry 357\n",
            "INFO:RotatingLogger:Logging entry 358\n",
            "INFO:RotatingLogger:Logging entry 359\n",
            "INFO:RotatingLogger:Logging entry 360\n",
            "INFO:RotatingLogger:Logging entry 361\n",
            "INFO:RotatingLogger:Logging entry 362\n",
            "INFO:RotatingLogger:Logging entry 363\n",
            "INFO:RotatingLogger:Logging entry 364\n",
            "INFO:RotatingLogger:Logging entry 365\n",
            "INFO:RotatingLogger:Logging entry 366\n",
            "INFO:RotatingLogger:Logging entry 367\n",
            "INFO:RotatingLogger:Logging entry 368\n",
            "INFO:RotatingLogger:Logging entry 369\n",
            "INFO:RotatingLogger:Logging entry 370\n",
            "INFO:RotatingLogger:Logging entry 371\n",
            "INFO:RotatingLogger:Logging entry 372\n",
            "INFO:RotatingLogger:Logging entry 373\n",
            "INFO:RotatingLogger:Logging entry 374\n",
            "INFO:RotatingLogger:Logging entry 375\n",
            "INFO:RotatingLogger:Logging entry 376\n",
            "INFO:RotatingLogger:Logging entry 377\n",
            "INFO:RotatingLogger:Logging entry 378\n",
            "INFO:RotatingLogger:Logging entry 379\n",
            "INFO:RotatingLogger:Logging entry 380\n",
            "INFO:RotatingLogger:Logging entry 381\n",
            "INFO:RotatingLogger:Logging entry 382\n",
            "INFO:RotatingLogger:Logging entry 383\n",
            "INFO:RotatingLogger:Logging entry 384\n",
            "INFO:RotatingLogger:Logging entry 385\n",
            "INFO:RotatingLogger:Logging entry 386\n",
            "INFO:RotatingLogger:Logging entry 387\n",
            "INFO:RotatingLogger:Logging entry 388\n",
            "INFO:RotatingLogger:Logging entry 389\n",
            "INFO:RotatingLogger:Logging entry 390\n",
            "INFO:RotatingLogger:Logging entry 391\n",
            "INFO:RotatingLogger:Logging entry 392\n",
            "INFO:RotatingLogger:Logging entry 393\n",
            "INFO:RotatingLogger:Logging entry 394\n",
            "INFO:RotatingLogger:Logging entry 395\n",
            "INFO:RotatingLogger:Logging entry 396\n",
            "INFO:RotatingLogger:Logging entry 397\n",
            "INFO:RotatingLogger:Logging entry 398\n",
            "INFO:RotatingLogger:Logging entry 399\n",
            "INFO:RotatingLogger:Logging entry 400\n",
            "INFO:RotatingLogger:Logging entry 401\n",
            "INFO:RotatingLogger:Logging entry 402\n",
            "INFO:RotatingLogger:Logging entry 403\n",
            "INFO:RotatingLogger:Logging entry 404\n",
            "INFO:RotatingLogger:Logging entry 405\n",
            "INFO:RotatingLogger:Logging entry 406\n",
            "INFO:RotatingLogger:Logging entry 407\n",
            "INFO:RotatingLogger:Logging entry 408\n",
            "INFO:RotatingLogger:Logging entry 409\n",
            "INFO:RotatingLogger:Logging entry 410\n",
            "INFO:RotatingLogger:Logging entry 411\n",
            "INFO:RotatingLogger:Logging entry 412\n",
            "INFO:RotatingLogger:Logging entry 413\n",
            "INFO:RotatingLogger:Logging entry 414\n",
            "INFO:RotatingLogger:Logging entry 415\n",
            "INFO:RotatingLogger:Logging entry 416\n",
            "INFO:RotatingLogger:Logging entry 417\n",
            "INFO:RotatingLogger:Logging entry 418\n",
            "INFO:RotatingLogger:Logging entry 419\n",
            "INFO:RotatingLogger:Logging entry 420\n",
            "INFO:RotatingLogger:Logging entry 421\n",
            "INFO:RotatingLogger:Logging entry 422\n",
            "INFO:RotatingLogger:Logging entry 423\n",
            "INFO:RotatingLogger:Logging entry 424\n",
            "INFO:RotatingLogger:Logging entry 425\n",
            "INFO:RotatingLogger:Logging entry 426\n",
            "INFO:RotatingLogger:Logging entry 427\n",
            "INFO:RotatingLogger:Logging entry 428\n",
            "INFO:RotatingLogger:Logging entry 429\n",
            "INFO:RotatingLogger:Logging entry 430\n",
            "INFO:RotatingLogger:Logging entry 431\n",
            "INFO:RotatingLogger:Logging entry 432\n",
            "INFO:RotatingLogger:Logging entry 433\n",
            "INFO:RotatingLogger:Logging entry 434\n",
            "INFO:RotatingLogger:Logging entry 435\n",
            "INFO:RotatingLogger:Logging entry 436\n",
            "INFO:RotatingLogger:Logging entry 437\n",
            "INFO:RotatingLogger:Logging entry 438\n",
            "INFO:RotatingLogger:Logging entry 439\n",
            "INFO:RotatingLogger:Logging entry 440\n",
            "INFO:RotatingLogger:Logging entry 441\n",
            "INFO:RotatingLogger:Logging entry 442\n",
            "INFO:RotatingLogger:Logging entry 443\n",
            "INFO:RotatingLogger:Logging entry 444\n",
            "INFO:RotatingLogger:Logging entry 445\n",
            "INFO:RotatingLogger:Logging entry 446\n",
            "INFO:RotatingLogger:Logging entry 447\n",
            "INFO:RotatingLogger:Logging entry 448\n",
            "INFO:RotatingLogger:Logging entry 449\n",
            "INFO:RotatingLogger:Logging entry 450\n",
            "INFO:RotatingLogger:Logging entry 451\n",
            "INFO:RotatingLogger:Logging entry 452\n",
            "INFO:RotatingLogger:Logging entry 453\n",
            "INFO:RotatingLogger:Logging entry 454\n",
            "INFO:RotatingLogger:Logging entry 455\n",
            "INFO:RotatingLogger:Logging entry 456\n",
            "INFO:RotatingLogger:Logging entry 457\n",
            "INFO:RotatingLogger:Logging entry 458\n",
            "INFO:RotatingLogger:Logging entry 459\n",
            "INFO:RotatingLogger:Logging entry 460\n",
            "INFO:RotatingLogger:Logging entry 461\n",
            "INFO:RotatingLogger:Logging entry 462\n",
            "INFO:RotatingLogger:Logging entry 463\n",
            "INFO:RotatingLogger:Logging entry 464\n",
            "INFO:RotatingLogger:Logging entry 465\n",
            "INFO:RotatingLogger:Logging entry 466\n",
            "INFO:RotatingLogger:Logging entry 467\n",
            "INFO:RotatingLogger:Logging entry 468\n",
            "INFO:RotatingLogger:Logging entry 469\n",
            "INFO:RotatingLogger:Logging entry 470\n",
            "INFO:RotatingLogger:Logging entry 471\n",
            "INFO:RotatingLogger:Logging entry 472\n",
            "INFO:RotatingLogger:Logging entry 473\n",
            "INFO:RotatingLogger:Logging entry 474\n",
            "INFO:RotatingLogger:Logging entry 475\n",
            "INFO:RotatingLogger:Logging entry 476\n",
            "INFO:RotatingLogger:Logging entry 477\n",
            "INFO:RotatingLogger:Logging entry 478\n",
            "INFO:RotatingLogger:Logging entry 479\n",
            "INFO:RotatingLogger:Logging entry 480\n",
            "INFO:RotatingLogger:Logging entry 481\n",
            "INFO:RotatingLogger:Logging entry 482\n",
            "INFO:RotatingLogger:Logging entry 483\n",
            "INFO:RotatingLogger:Logging entry 484\n",
            "INFO:RotatingLogger:Logging entry 485\n",
            "INFO:RotatingLogger:Logging entry 486\n",
            "INFO:RotatingLogger:Logging entry 487\n",
            "INFO:RotatingLogger:Logging entry 488\n",
            "INFO:RotatingLogger:Logging entry 489\n",
            "INFO:RotatingLogger:Logging entry 490\n",
            "INFO:RotatingLogger:Logging entry 491\n",
            "INFO:RotatingLogger:Logging entry 492\n",
            "INFO:RotatingLogger:Logging entry 493\n",
            "INFO:RotatingLogger:Logging entry 494\n",
            "INFO:RotatingLogger:Logging entry 495\n",
            "INFO:RotatingLogger:Logging entry 496\n",
            "INFO:RotatingLogger:Logging entry 497\n",
            "INFO:RotatingLogger:Logging entry 498\n",
            "INFO:RotatingLogger:Logging entry 499\n",
            "INFO:RotatingLogger:Logging entry 500\n",
            "INFO:RotatingLogger:Logging entry 501\n",
            "INFO:RotatingLogger:Logging entry 502\n",
            "INFO:RotatingLogger:Logging entry 503\n",
            "INFO:RotatingLogger:Logging entry 504\n",
            "INFO:RotatingLogger:Logging entry 505\n",
            "INFO:RotatingLogger:Logging entry 506\n",
            "INFO:RotatingLogger:Logging entry 507\n",
            "INFO:RotatingLogger:Logging entry 508\n",
            "INFO:RotatingLogger:Logging entry 509\n",
            "INFO:RotatingLogger:Logging entry 510\n",
            "INFO:RotatingLogger:Logging entry 511\n",
            "INFO:RotatingLogger:Logging entry 512\n",
            "INFO:RotatingLogger:Logging entry 513\n",
            "INFO:RotatingLogger:Logging entry 514\n",
            "INFO:RotatingLogger:Logging entry 515\n",
            "INFO:RotatingLogger:Logging entry 516\n",
            "INFO:RotatingLogger:Logging entry 517\n",
            "INFO:RotatingLogger:Logging entry 518\n",
            "INFO:RotatingLogger:Logging entry 519\n",
            "INFO:RotatingLogger:Logging entry 520\n",
            "INFO:RotatingLogger:Logging entry 521\n",
            "INFO:RotatingLogger:Logging entry 522\n",
            "INFO:RotatingLogger:Logging entry 523\n",
            "INFO:RotatingLogger:Logging entry 524\n",
            "INFO:RotatingLogger:Logging entry 525\n",
            "INFO:RotatingLogger:Logging entry 526\n",
            "INFO:RotatingLogger:Logging entry 527\n",
            "INFO:RotatingLogger:Logging entry 528\n",
            "INFO:RotatingLogger:Logging entry 529\n",
            "INFO:RotatingLogger:Logging entry 530\n",
            "INFO:RotatingLogger:Logging entry 531\n",
            "INFO:RotatingLogger:Logging entry 532\n",
            "INFO:RotatingLogger:Logging entry 533\n",
            "INFO:RotatingLogger:Logging entry 534\n",
            "INFO:RotatingLogger:Logging entry 535\n",
            "INFO:RotatingLogger:Logging entry 536\n",
            "INFO:RotatingLogger:Logging entry 537\n",
            "INFO:RotatingLogger:Logging entry 538\n",
            "INFO:RotatingLogger:Logging entry 539\n",
            "INFO:RotatingLogger:Logging entry 540\n",
            "INFO:RotatingLogger:Logging entry 541\n",
            "INFO:RotatingLogger:Logging entry 542\n",
            "INFO:RotatingLogger:Logging entry 543\n",
            "INFO:RotatingLogger:Logging entry 544\n",
            "INFO:RotatingLogger:Logging entry 545\n",
            "INFO:RotatingLogger:Logging entry 546\n",
            "INFO:RotatingLogger:Logging entry 547\n",
            "INFO:RotatingLogger:Logging entry 548\n",
            "INFO:RotatingLogger:Logging entry 549\n",
            "INFO:RotatingLogger:Logging entry 550\n",
            "INFO:RotatingLogger:Logging entry 551\n",
            "INFO:RotatingLogger:Logging entry 552\n",
            "INFO:RotatingLogger:Logging entry 553\n",
            "INFO:RotatingLogger:Logging entry 554\n",
            "INFO:RotatingLogger:Logging entry 555\n",
            "INFO:RotatingLogger:Logging entry 556\n",
            "INFO:RotatingLogger:Logging entry 557\n",
            "INFO:RotatingLogger:Logging entry 558\n",
            "INFO:RotatingLogger:Logging entry 559\n",
            "INFO:RotatingLogger:Logging entry 560\n",
            "INFO:RotatingLogger:Logging entry 561\n",
            "INFO:RotatingLogger:Logging entry 562\n",
            "INFO:RotatingLogger:Logging entry 563\n",
            "INFO:RotatingLogger:Logging entry 564\n",
            "INFO:RotatingLogger:Logging entry 565\n",
            "INFO:RotatingLogger:Logging entry 566\n",
            "INFO:RotatingLogger:Logging entry 567\n",
            "INFO:RotatingLogger:Logging entry 568\n",
            "INFO:RotatingLogger:Logging entry 569\n",
            "INFO:RotatingLogger:Logging entry 570\n",
            "INFO:RotatingLogger:Logging entry 571\n",
            "INFO:RotatingLogger:Logging entry 572\n",
            "INFO:RotatingLogger:Logging entry 573\n",
            "INFO:RotatingLogger:Logging entry 574\n",
            "INFO:RotatingLogger:Logging entry 575\n",
            "INFO:RotatingLogger:Logging entry 576\n",
            "INFO:RotatingLogger:Logging entry 577\n",
            "INFO:RotatingLogger:Logging entry 578\n",
            "INFO:RotatingLogger:Logging entry 579\n",
            "INFO:RotatingLogger:Logging entry 580\n",
            "INFO:RotatingLogger:Logging entry 581\n",
            "INFO:RotatingLogger:Logging entry 582\n",
            "INFO:RotatingLogger:Logging entry 583\n",
            "INFO:RotatingLogger:Logging entry 584\n",
            "INFO:RotatingLogger:Logging entry 585\n",
            "INFO:RotatingLogger:Logging entry 586\n",
            "INFO:RotatingLogger:Logging entry 587\n",
            "INFO:RotatingLogger:Logging entry 588\n",
            "INFO:RotatingLogger:Logging entry 589\n",
            "INFO:RotatingLogger:Logging entry 590\n",
            "INFO:RotatingLogger:Logging entry 591\n",
            "INFO:RotatingLogger:Logging entry 592\n",
            "INFO:RotatingLogger:Logging entry 593\n",
            "INFO:RotatingLogger:Logging entry 594\n",
            "INFO:RotatingLogger:Logging entry 595\n",
            "INFO:RotatingLogger:Logging entry 596\n",
            "INFO:RotatingLogger:Logging entry 597\n",
            "INFO:RotatingLogger:Logging entry 598\n",
            "INFO:RotatingLogger:Logging entry 599\n",
            "INFO:RotatingLogger:Logging entry 600\n",
            "INFO:RotatingLogger:Logging entry 601\n",
            "INFO:RotatingLogger:Logging entry 602\n",
            "INFO:RotatingLogger:Logging entry 603\n",
            "INFO:RotatingLogger:Logging entry 604\n",
            "INFO:RotatingLogger:Logging entry 605\n",
            "INFO:RotatingLogger:Logging entry 606\n",
            "INFO:RotatingLogger:Logging entry 607\n",
            "INFO:RotatingLogger:Logging entry 608\n",
            "INFO:RotatingLogger:Logging entry 609\n",
            "INFO:RotatingLogger:Logging entry 610\n",
            "INFO:RotatingLogger:Logging entry 611\n",
            "INFO:RotatingLogger:Logging entry 612\n",
            "INFO:RotatingLogger:Logging entry 613\n",
            "INFO:RotatingLogger:Logging entry 614\n",
            "INFO:RotatingLogger:Logging entry 615\n",
            "INFO:RotatingLogger:Logging entry 616\n",
            "INFO:RotatingLogger:Logging entry 617\n",
            "INFO:RotatingLogger:Logging entry 618\n",
            "INFO:RotatingLogger:Logging entry 619\n",
            "INFO:RotatingLogger:Logging entry 620\n",
            "INFO:RotatingLogger:Logging entry 621\n",
            "INFO:RotatingLogger:Logging entry 622\n",
            "INFO:RotatingLogger:Logging entry 623\n",
            "INFO:RotatingLogger:Logging entry 624\n",
            "INFO:RotatingLogger:Logging entry 625\n",
            "INFO:RotatingLogger:Logging entry 626\n",
            "INFO:RotatingLogger:Logging entry 627\n",
            "INFO:RotatingLogger:Logging entry 628\n",
            "INFO:RotatingLogger:Logging entry 629\n",
            "INFO:RotatingLogger:Logging entry 630\n",
            "INFO:RotatingLogger:Logging entry 631\n",
            "INFO:RotatingLogger:Logging entry 632\n",
            "INFO:RotatingLogger:Logging entry 633\n",
            "INFO:RotatingLogger:Logging entry 634\n",
            "INFO:RotatingLogger:Logging entry 635\n",
            "INFO:RotatingLogger:Logging entry 636\n",
            "INFO:RotatingLogger:Logging entry 637\n",
            "INFO:RotatingLogger:Logging entry 638\n",
            "INFO:RotatingLogger:Logging entry 639\n",
            "INFO:RotatingLogger:Logging entry 640\n",
            "INFO:RotatingLogger:Logging entry 641\n",
            "INFO:RotatingLogger:Logging entry 642\n",
            "INFO:RotatingLogger:Logging entry 643\n",
            "INFO:RotatingLogger:Logging entry 644\n",
            "INFO:RotatingLogger:Logging entry 645\n",
            "INFO:RotatingLogger:Logging entry 646\n",
            "INFO:RotatingLogger:Logging entry 647\n",
            "INFO:RotatingLogger:Logging entry 648\n",
            "INFO:RotatingLogger:Logging entry 649\n",
            "INFO:RotatingLogger:Logging entry 650\n",
            "INFO:RotatingLogger:Logging entry 651\n",
            "INFO:RotatingLogger:Logging entry 652\n",
            "INFO:RotatingLogger:Logging entry 653\n",
            "INFO:RotatingLogger:Logging entry 654\n",
            "INFO:RotatingLogger:Logging entry 655\n",
            "INFO:RotatingLogger:Logging entry 656\n",
            "INFO:RotatingLogger:Logging entry 657\n",
            "INFO:RotatingLogger:Logging entry 658\n",
            "INFO:RotatingLogger:Logging entry 659\n",
            "INFO:RotatingLogger:Logging entry 660\n",
            "INFO:RotatingLogger:Logging entry 661\n",
            "INFO:RotatingLogger:Logging entry 662\n",
            "INFO:RotatingLogger:Logging entry 663\n",
            "INFO:RotatingLogger:Logging entry 664\n",
            "INFO:RotatingLogger:Logging entry 665\n",
            "INFO:RotatingLogger:Logging entry 666\n",
            "INFO:RotatingLogger:Logging entry 667\n",
            "INFO:RotatingLogger:Logging entry 668\n",
            "INFO:RotatingLogger:Logging entry 669\n",
            "INFO:RotatingLogger:Logging entry 670\n",
            "INFO:RotatingLogger:Logging entry 671\n",
            "INFO:RotatingLogger:Logging entry 672\n",
            "INFO:RotatingLogger:Logging entry 673\n",
            "INFO:RotatingLogger:Logging entry 674\n",
            "INFO:RotatingLogger:Logging entry 675\n",
            "INFO:RotatingLogger:Logging entry 676\n",
            "INFO:RotatingLogger:Logging entry 677\n",
            "INFO:RotatingLogger:Logging entry 678\n",
            "INFO:RotatingLogger:Logging entry 679\n",
            "INFO:RotatingLogger:Logging entry 680\n",
            "INFO:RotatingLogger:Logging entry 681\n",
            "INFO:RotatingLogger:Logging entry 682\n",
            "INFO:RotatingLogger:Logging entry 683\n",
            "INFO:RotatingLogger:Logging entry 684\n",
            "INFO:RotatingLogger:Logging entry 685\n",
            "INFO:RotatingLogger:Logging entry 686\n",
            "INFO:RotatingLogger:Logging entry 687\n",
            "INFO:RotatingLogger:Logging entry 688\n",
            "INFO:RotatingLogger:Logging entry 689\n",
            "INFO:RotatingLogger:Logging entry 690\n",
            "INFO:RotatingLogger:Logging entry 691\n",
            "INFO:RotatingLogger:Logging entry 692\n",
            "INFO:RotatingLogger:Logging entry 693\n",
            "INFO:RotatingLogger:Logging entry 694\n",
            "INFO:RotatingLogger:Logging entry 695\n",
            "INFO:RotatingLogger:Logging entry 696\n",
            "INFO:RotatingLogger:Logging entry 697\n",
            "INFO:RotatingLogger:Logging entry 698\n",
            "INFO:RotatingLogger:Logging entry 699\n",
            "INFO:RotatingLogger:Logging entry 700\n",
            "INFO:RotatingLogger:Logging entry 701\n",
            "INFO:RotatingLogger:Logging entry 702\n",
            "INFO:RotatingLogger:Logging entry 703\n",
            "INFO:RotatingLogger:Logging entry 704\n",
            "INFO:RotatingLogger:Logging entry 705\n",
            "INFO:RotatingLogger:Logging entry 706\n",
            "INFO:RotatingLogger:Logging entry 707\n",
            "INFO:RotatingLogger:Logging entry 708\n",
            "INFO:RotatingLogger:Logging entry 709\n",
            "INFO:RotatingLogger:Logging entry 710\n",
            "INFO:RotatingLogger:Logging entry 711\n",
            "INFO:RotatingLogger:Logging entry 712\n",
            "INFO:RotatingLogger:Logging entry 713\n",
            "INFO:RotatingLogger:Logging entry 714\n",
            "INFO:RotatingLogger:Logging entry 715\n",
            "INFO:RotatingLogger:Logging entry 716\n",
            "INFO:RotatingLogger:Logging entry 717\n",
            "INFO:RotatingLogger:Logging entry 718\n",
            "INFO:RotatingLogger:Logging entry 719\n",
            "INFO:RotatingLogger:Logging entry 720\n",
            "INFO:RotatingLogger:Logging entry 721\n",
            "INFO:RotatingLogger:Logging entry 722\n",
            "INFO:RotatingLogger:Logging entry 723\n",
            "INFO:RotatingLogger:Logging entry 724\n",
            "INFO:RotatingLogger:Logging entry 725\n",
            "INFO:RotatingLogger:Logging entry 726\n",
            "INFO:RotatingLogger:Logging entry 727\n",
            "INFO:RotatingLogger:Logging entry 728\n",
            "INFO:RotatingLogger:Logging entry 729\n",
            "INFO:RotatingLogger:Logging entry 730\n",
            "INFO:RotatingLogger:Logging entry 731\n",
            "INFO:RotatingLogger:Logging entry 732\n",
            "INFO:RotatingLogger:Logging entry 733\n",
            "INFO:RotatingLogger:Logging entry 734\n",
            "INFO:RotatingLogger:Logging entry 735\n",
            "INFO:RotatingLogger:Logging entry 736\n",
            "INFO:RotatingLogger:Logging entry 737\n",
            "INFO:RotatingLogger:Logging entry 738\n",
            "INFO:RotatingLogger:Logging entry 739\n",
            "INFO:RotatingLogger:Logging entry 740\n",
            "INFO:RotatingLogger:Logging entry 741\n",
            "INFO:RotatingLogger:Logging entry 742\n",
            "INFO:RotatingLogger:Logging entry 743\n",
            "INFO:RotatingLogger:Logging entry 744\n",
            "INFO:RotatingLogger:Logging entry 745\n",
            "INFO:RotatingLogger:Logging entry 746\n",
            "INFO:RotatingLogger:Logging entry 747\n",
            "INFO:RotatingLogger:Logging entry 748\n",
            "INFO:RotatingLogger:Logging entry 749\n",
            "INFO:RotatingLogger:Logging entry 750\n",
            "INFO:RotatingLogger:Logging entry 751\n",
            "INFO:RotatingLogger:Logging entry 752\n",
            "INFO:RotatingLogger:Logging entry 753\n",
            "INFO:RotatingLogger:Logging entry 754\n",
            "INFO:RotatingLogger:Logging entry 755\n",
            "INFO:RotatingLogger:Logging entry 756\n",
            "INFO:RotatingLogger:Logging entry 757\n",
            "INFO:RotatingLogger:Logging entry 758\n",
            "INFO:RotatingLogger:Logging entry 759\n",
            "INFO:RotatingLogger:Logging entry 760\n",
            "INFO:RotatingLogger:Logging entry 761\n",
            "INFO:RotatingLogger:Logging entry 762\n",
            "INFO:RotatingLogger:Logging entry 763\n",
            "INFO:RotatingLogger:Logging entry 764\n",
            "INFO:RotatingLogger:Logging entry 765\n",
            "INFO:RotatingLogger:Logging entry 766\n",
            "INFO:RotatingLogger:Logging entry 767\n",
            "INFO:RotatingLogger:Logging entry 768\n",
            "INFO:RotatingLogger:Logging entry 769\n",
            "INFO:RotatingLogger:Logging entry 770\n",
            "INFO:RotatingLogger:Logging entry 771\n",
            "INFO:RotatingLogger:Logging entry 772\n",
            "INFO:RotatingLogger:Logging entry 773\n",
            "INFO:RotatingLogger:Logging entry 774\n",
            "INFO:RotatingLogger:Logging entry 775\n",
            "INFO:RotatingLogger:Logging entry 776\n",
            "INFO:RotatingLogger:Logging entry 777\n",
            "INFO:RotatingLogger:Logging entry 778\n",
            "INFO:RotatingLogger:Logging entry 779\n",
            "INFO:RotatingLogger:Logging entry 780\n",
            "INFO:RotatingLogger:Logging entry 781\n",
            "INFO:RotatingLogger:Logging entry 782\n",
            "INFO:RotatingLogger:Logging entry 783\n",
            "INFO:RotatingLogger:Logging entry 784\n",
            "INFO:RotatingLogger:Logging entry 785\n",
            "INFO:RotatingLogger:Logging entry 786\n",
            "INFO:RotatingLogger:Logging entry 787\n",
            "INFO:RotatingLogger:Logging entry 788\n",
            "INFO:RotatingLogger:Logging entry 789\n",
            "INFO:RotatingLogger:Logging entry 790\n",
            "INFO:RotatingLogger:Logging entry 791\n",
            "INFO:RotatingLogger:Logging entry 792\n",
            "INFO:RotatingLogger:Logging entry 793\n",
            "INFO:RotatingLogger:Logging entry 794\n",
            "INFO:RotatingLogger:Logging entry 795\n",
            "INFO:RotatingLogger:Logging entry 796\n",
            "INFO:RotatingLogger:Logging entry 797\n",
            "INFO:RotatingLogger:Logging entry 798\n",
            "INFO:RotatingLogger:Logging entry 799\n",
            "INFO:RotatingLogger:Logging entry 800\n",
            "INFO:RotatingLogger:Logging entry 801\n",
            "INFO:RotatingLogger:Logging entry 802\n",
            "INFO:RotatingLogger:Logging entry 803\n",
            "INFO:RotatingLogger:Logging entry 804\n",
            "INFO:RotatingLogger:Logging entry 805\n",
            "INFO:RotatingLogger:Logging entry 806\n",
            "INFO:RotatingLogger:Logging entry 807\n",
            "INFO:RotatingLogger:Logging entry 808\n",
            "INFO:RotatingLogger:Logging entry 809\n",
            "INFO:RotatingLogger:Logging entry 810\n",
            "INFO:RotatingLogger:Logging entry 811\n",
            "INFO:RotatingLogger:Logging entry 812\n",
            "INFO:RotatingLogger:Logging entry 813\n",
            "INFO:RotatingLogger:Logging entry 814\n",
            "INFO:RotatingLogger:Logging entry 815\n",
            "INFO:RotatingLogger:Logging entry 816\n",
            "INFO:RotatingLogger:Logging entry 817\n",
            "INFO:RotatingLogger:Logging entry 818\n",
            "INFO:RotatingLogger:Logging entry 819\n",
            "INFO:RotatingLogger:Logging entry 820\n",
            "INFO:RotatingLogger:Logging entry 821\n",
            "INFO:RotatingLogger:Logging entry 822\n",
            "INFO:RotatingLogger:Logging entry 823\n",
            "INFO:RotatingLogger:Logging entry 824\n",
            "INFO:RotatingLogger:Logging entry 825\n",
            "INFO:RotatingLogger:Logging entry 826\n",
            "INFO:RotatingLogger:Logging entry 827\n",
            "INFO:RotatingLogger:Logging entry 828\n",
            "INFO:RotatingLogger:Logging entry 829\n",
            "INFO:RotatingLogger:Logging entry 830\n",
            "INFO:RotatingLogger:Logging entry 831\n",
            "INFO:RotatingLogger:Logging entry 832\n",
            "INFO:RotatingLogger:Logging entry 833\n",
            "INFO:RotatingLogger:Logging entry 834\n",
            "INFO:RotatingLogger:Logging entry 835\n",
            "INFO:RotatingLogger:Logging entry 836\n",
            "INFO:RotatingLogger:Logging entry 837\n",
            "INFO:RotatingLogger:Logging entry 838\n",
            "INFO:RotatingLogger:Logging entry 839\n",
            "INFO:RotatingLogger:Logging entry 840\n",
            "INFO:RotatingLogger:Logging entry 841\n",
            "INFO:RotatingLogger:Logging entry 842\n",
            "INFO:RotatingLogger:Logging entry 843\n",
            "INFO:RotatingLogger:Logging entry 844\n",
            "INFO:RotatingLogger:Logging entry 845\n",
            "INFO:RotatingLogger:Logging entry 846\n",
            "INFO:RotatingLogger:Logging entry 847\n",
            "INFO:RotatingLogger:Logging entry 848\n",
            "INFO:RotatingLogger:Logging entry 849\n",
            "INFO:RotatingLogger:Logging entry 850\n",
            "INFO:RotatingLogger:Logging entry 851\n",
            "INFO:RotatingLogger:Logging entry 852\n",
            "INFO:RotatingLogger:Logging entry 853\n",
            "INFO:RotatingLogger:Logging entry 854\n",
            "INFO:RotatingLogger:Logging entry 855\n",
            "INFO:RotatingLogger:Logging entry 856\n",
            "INFO:RotatingLogger:Logging entry 857\n",
            "INFO:RotatingLogger:Logging entry 858\n",
            "INFO:RotatingLogger:Logging entry 859\n",
            "INFO:RotatingLogger:Logging entry 860\n",
            "INFO:RotatingLogger:Logging entry 861\n",
            "INFO:RotatingLogger:Logging entry 862\n",
            "INFO:RotatingLogger:Logging entry 863\n",
            "INFO:RotatingLogger:Logging entry 864\n",
            "INFO:RotatingLogger:Logging entry 865\n",
            "INFO:RotatingLogger:Logging entry 866\n",
            "INFO:RotatingLogger:Logging entry 867\n",
            "INFO:RotatingLogger:Logging entry 868\n",
            "INFO:RotatingLogger:Logging entry 869\n",
            "INFO:RotatingLogger:Logging entry 870\n",
            "INFO:RotatingLogger:Logging entry 871\n",
            "INFO:RotatingLogger:Logging entry 872\n",
            "INFO:RotatingLogger:Logging entry 873\n",
            "INFO:RotatingLogger:Logging entry 874\n",
            "INFO:RotatingLogger:Logging entry 875\n",
            "INFO:RotatingLogger:Logging entry 876\n",
            "INFO:RotatingLogger:Logging entry 877\n",
            "INFO:RotatingLogger:Logging entry 878\n",
            "INFO:RotatingLogger:Logging entry 879\n",
            "INFO:RotatingLogger:Logging entry 880\n",
            "INFO:RotatingLogger:Logging entry 881\n",
            "INFO:RotatingLogger:Logging entry 882\n",
            "INFO:RotatingLogger:Logging entry 883\n",
            "INFO:RotatingLogger:Logging entry 884\n",
            "INFO:RotatingLogger:Logging entry 885\n",
            "INFO:RotatingLogger:Logging entry 886\n",
            "INFO:RotatingLogger:Logging entry 887\n",
            "INFO:RotatingLogger:Logging entry 888\n",
            "INFO:RotatingLogger:Logging entry 889\n",
            "INFO:RotatingLogger:Logging entry 890\n",
            "INFO:RotatingLogger:Logging entry 891\n",
            "INFO:RotatingLogger:Logging entry 892\n",
            "INFO:RotatingLogger:Logging entry 893\n",
            "INFO:RotatingLogger:Logging entry 894\n",
            "INFO:RotatingLogger:Logging entry 895\n",
            "INFO:RotatingLogger:Logging entry 896\n",
            "INFO:RotatingLogger:Logging entry 897\n",
            "INFO:RotatingLogger:Logging entry 898\n",
            "INFO:RotatingLogger:Logging entry 899\n",
            "INFO:RotatingLogger:Logging entry 900\n",
            "INFO:RotatingLogger:Logging entry 901\n",
            "INFO:RotatingLogger:Logging entry 902\n",
            "INFO:RotatingLogger:Logging entry 903\n",
            "INFO:RotatingLogger:Logging entry 904\n",
            "INFO:RotatingLogger:Logging entry 905\n",
            "INFO:RotatingLogger:Logging entry 906\n",
            "INFO:RotatingLogger:Logging entry 907\n",
            "INFO:RotatingLogger:Logging entry 908\n",
            "INFO:RotatingLogger:Logging entry 909\n",
            "INFO:RotatingLogger:Logging entry 910\n",
            "INFO:RotatingLogger:Logging entry 911\n",
            "INFO:RotatingLogger:Logging entry 912\n",
            "INFO:RotatingLogger:Logging entry 913\n",
            "INFO:RotatingLogger:Logging entry 914\n",
            "INFO:RotatingLogger:Logging entry 915\n",
            "INFO:RotatingLogger:Logging entry 916\n",
            "INFO:RotatingLogger:Logging entry 917\n",
            "INFO:RotatingLogger:Logging entry 918\n",
            "INFO:RotatingLogger:Logging entry 919\n",
            "INFO:RotatingLogger:Logging entry 920\n",
            "INFO:RotatingLogger:Logging entry 921\n",
            "INFO:RotatingLogger:Logging entry 922\n",
            "INFO:RotatingLogger:Logging entry 923\n",
            "INFO:RotatingLogger:Logging entry 924\n",
            "INFO:RotatingLogger:Logging entry 925\n",
            "INFO:RotatingLogger:Logging entry 926\n",
            "INFO:RotatingLogger:Logging entry 927\n",
            "INFO:RotatingLogger:Logging entry 928\n",
            "INFO:RotatingLogger:Logging entry 929\n",
            "INFO:RotatingLogger:Logging entry 930\n",
            "INFO:RotatingLogger:Logging entry 931\n",
            "INFO:RotatingLogger:Logging entry 932\n",
            "INFO:RotatingLogger:Logging entry 933\n",
            "INFO:RotatingLogger:Logging entry 934\n",
            "INFO:RotatingLogger:Logging entry 935\n",
            "INFO:RotatingLogger:Logging entry 936\n",
            "INFO:RotatingLogger:Logging entry 937\n",
            "INFO:RotatingLogger:Logging entry 938\n",
            "INFO:RotatingLogger:Logging entry 939\n",
            "INFO:RotatingLogger:Logging entry 940\n",
            "INFO:RotatingLogger:Logging entry 941\n",
            "INFO:RotatingLogger:Logging entry 942\n",
            "INFO:RotatingLogger:Logging entry 943\n",
            "INFO:RotatingLogger:Logging entry 944\n",
            "INFO:RotatingLogger:Logging entry 945\n",
            "INFO:RotatingLogger:Logging entry 946\n",
            "INFO:RotatingLogger:Logging entry 947\n",
            "INFO:RotatingLogger:Logging entry 948\n",
            "INFO:RotatingLogger:Logging entry 949\n",
            "INFO:RotatingLogger:Logging entry 950\n",
            "INFO:RotatingLogger:Logging entry 951\n",
            "INFO:RotatingLogger:Logging entry 952\n",
            "INFO:RotatingLogger:Logging entry 953\n",
            "INFO:RotatingLogger:Logging entry 954\n",
            "INFO:RotatingLogger:Logging entry 955\n",
            "INFO:RotatingLogger:Logging entry 956\n",
            "INFO:RotatingLogger:Logging entry 957\n",
            "INFO:RotatingLogger:Logging entry 958\n",
            "INFO:RotatingLogger:Logging entry 959\n",
            "INFO:RotatingLogger:Logging entry 960\n",
            "INFO:RotatingLogger:Logging entry 961\n",
            "INFO:RotatingLogger:Logging entry 962\n",
            "INFO:RotatingLogger:Logging entry 963\n",
            "INFO:RotatingLogger:Logging entry 964\n",
            "INFO:RotatingLogger:Logging entry 965\n",
            "INFO:RotatingLogger:Logging entry 966\n",
            "INFO:RotatingLogger:Logging entry 967\n",
            "INFO:RotatingLogger:Logging entry 968\n",
            "INFO:RotatingLogger:Logging entry 969\n",
            "INFO:RotatingLogger:Logging entry 970\n",
            "INFO:RotatingLogger:Logging entry 971\n",
            "INFO:RotatingLogger:Logging entry 972\n",
            "INFO:RotatingLogger:Logging entry 973\n",
            "INFO:RotatingLogger:Logging entry 974\n",
            "INFO:RotatingLogger:Logging entry 975\n",
            "INFO:RotatingLogger:Logging entry 976\n",
            "INFO:RotatingLogger:Logging entry 977\n",
            "INFO:RotatingLogger:Logging entry 978\n",
            "INFO:RotatingLogger:Logging entry 979\n",
            "INFO:RotatingLogger:Logging entry 980\n",
            "INFO:RotatingLogger:Logging entry 981\n",
            "INFO:RotatingLogger:Logging entry 982\n",
            "INFO:RotatingLogger:Logging entry 983\n",
            "INFO:RotatingLogger:Logging entry 984\n",
            "INFO:RotatingLogger:Logging entry 985\n",
            "INFO:RotatingLogger:Logging entry 986\n",
            "INFO:RotatingLogger:Logging entry 987\n",
            "INFO:RotatingLogger:Logging entry 988\n",
            "INFO:RotatingLogger:Logging entry 989\n",
            "INFO:RotatingLogger:Logging entry 990\n",
            "INFO:RotatingLogger:Logging entry 991\n",
            "INFO:RotatingLogger:Logging entry 992\n",
            "INFO:RotatingLogger:Logging entry 993\n",
            "INFO:RotatingLogger:Logging entry 994\n",
            "INFO:RotatingLogger:Logging entry 995\n",
            "INFO:RotatingLogger:Logging entry 996\n",
            "INFO:RotatingLogger:Logging entry 997\n",
            "INFO:RotatingLogger:Logging entry 998\n",
            "INFO:RotatingLogger:Logging entry 999\n"
          ]
        },
        {
          "output_type": "stream",
          "name": "stdout",
          "text": [
            "Logging setup complete! Check 'app.log' for details.\n"
          ]
        }
      ]
    },
    {
      "cell_type": "code",
      "source": [
        "# Write a program that handles both IndexError and KeyError using a try-except block\n",
        "try:\n",
        "    numbers = [10, 20, 30]\n",
        "\n",
        "    print(numbers[5])\n",
        "\n",
        "    student_scores = {\"Alice\": 85, \"Bob\": 90}\n",
        "\n",
        "    print(student_scores[\"Charlie\"])\n",
        "\n",
        "except IndexError:\n",
        "    print(\"Error: List index out of range. Please check the index.\")\n",
        "\n",
        "except KeyError:\n",
        "    print(\"Error: Dictionary key not found. Please check the key.\")\n",
        "\n",
        "except Exception as e:\n",
        "    print(f\"An unexpected error occurred: {e}\")"
      ],
      "metadata": {
        "colab": {
          "base_uri": "https://localhost:8080/"
        },
        "id": "s-rQcrRG1VYe",
        "outputId": "c5a9c61a-68a3-48e9-9c4c-435fd7bf967e"
      },
      "execution_count": 30,
      "outputs": [
        {
          "output_type": "stream",
          "name": "stdout",
          "text": [
            "Error: List index out of range. Please check the index.\n"
          ]
        }
      ]
    },
    {
      "cell_type": "code",
      "source": [
        "# How would you open a file and read its contents using a context manager in Python?\n",
        "with open(\"example.txt\", \"r\") as file:\n",
        "    content = file.read()\n",
        "    print(content)"
      ],
      "metadata": {
        "colab": {
          "base_uri": "https://localhost:8080/"
        },
        "id": "JfimOFpP1w5O",
        "outputId": "49ccc284-44bc-4af2-e6ca-f322763e86ae"
      },
      "execution_count": 31,
      "outputs": [
        {
          "output_type": "stream",
          "name": "stdout",
          "text": [
            "Hello, Python!\n",
            "Appending some more content.\n"
          ]
        }
      ]
    },
    {
      "cell_type": "code",
      "source": [
        "# Write a Python program that reads a file and prints the number of occurrences of a specific word.\n",
        "with open(\"example.txt\", \"r\") as file:\n",
        "    content = file.read()\n",
        "    word_count = content.count(\"Python\")\n",
        "    print(f\"The word 'Python' appears {word_count} times in the file.\")\n",
        ""
      ],
      "metadata": {
        "colab": {
          "base_uri": "https://localhost:8080/"
        },
        "id": "iXXMev6o18IK",
        "outputId": "00acd84e-c027-41d1-c4df-330a40226ed8"
      },
      "execution_count": 32,
      "outputs": [
        {
          "output_type": "stream",
          "name": "stdout",
          "text": [
            "The word 'Python' appears 1 times in the file.\n"
          ]
        }
      ]
    },
    {
      "cell_type": "code",
      "source": [
        "# Write a Python program that writes to a log file when an error occurs during file handling.\n",
        "import logging\n",
        "\n",
        "logging.basicConfig(filename=\"file_errors.log\", level=logging.ERROR, format=\"%(asctime)s - %(levelname)s - %(message)s\")\n",
        "\n",
        "def read_file(file_path):\n",
        "    try:\n",
        "        with open(file_path, \"r\") as file:\n",
        "            content = file.read()\n",
        "            print(\"File Contents:\\n\", content)\n",
        "    except FileNotFoundError:\n",
        "        logging.error(f\"File not found: {file_path}\")\n",
        "        print(\"Error: The file does not exist.\")\n",
        "    except PermissionError:\n",
        "        logging.error(f\"Permission denied: {file_path}\")\n",
        "        print(\"Error: You do not have permission to access this file.\")\n",
        "    except Exception as e:\n",
        "        logging.error(f\"Unexpected error occurred: {e}\")\n",
        "        print(f\"An unexpected error occurred: {e}\")\n",
        "\n",
        "read_file(\"example.txt\")\n",
        "read_file(\"missing_file.txt\")"
      ],
      "metadata": {
        "colab": {
          "base_uri": "https://localhost:8080/"
        },
        "id": "PIA9Vwqt2ERF",
        "outputId": "6273276d-ab09-41a6-cb26-f2f1a0c723b3"
      },
      "execution_count": 33,
      "outputs": [
        {
          "output_type": "stream",
          "name": "stderr",
          "text": [
            "ERROR:root:File not found: missing_file.txt\n"
          ]
        },
        {
          "output_type": "stream",
          "name": "stdout",
          "text": [
            "File Contents:\n",
            " Hello, Python!\n",
            "Appending some more content.\n",
            "Error: The file does not exist.\n"
          ]
        }
      ]
    },
    {
      "cell_type": "code",
      "source": [],
      "metadata": {
        "id": "gsIOam0M2Qbd"
      },
      "execution_count": null,
      "outputs": []
    }
  ]
}